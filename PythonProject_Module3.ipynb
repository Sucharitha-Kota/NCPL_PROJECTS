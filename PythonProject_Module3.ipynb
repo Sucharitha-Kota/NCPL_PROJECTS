{
 "cells": [
  {
   "cell_type": "markdown",
   "metadata": {
    "id": "I4j7tUlCOf4o"
   },
   "source": []
  },
  {
   "cell_type": "markdown",
   "metadata": {
    "id": "jU9n9YT1PeUz"
   },
   "source": [
    "Project Overview\n",
    "This assignment aims to provide a comprehensive understanding of Python programming fundamentals.\n",
    "\n",
    "Covered Concepts:\n",
    "\n",
    "1)Python Functions\n",
    "\n",
    "2)Lambda Functions\n",
    "\n",
    "3)NumPy\n",
    "\n",
    "4)Pandas\n",
    "\n",
    "5)If Statements\n",
    "\n",
    "6)Loops (for and while)\n",
    "\n",
    "7)Lists, Tuples, Sets, Dictionaries\n",
    "\n",
    "8)Operators (arithmetic, comparison, logical, etc.)\n",
    "\n",
    "9)Reading CSV files\n",
    "\n",
    "10)Python String Methods"
   ]
  },
  {
   "cell_type": "markdown",
   "metadata": {
    "id": "P8wXd8aMPHWq"
   },
   "source": [
    "#1)Python Functions.\n",
    "\n",
    "a)Create functions with different numbers of parameters and return types."
   ]
  },
  {
   "cell_type": "code",
   "execution_count": 1,
   "metadata": {
    "colab": {
     "base_uri": "https://localhost:8080/"
    },
    "id": "4HvAj-DnPSkz",
    "outputId": "7924efd4-49b8-41a8-f62b-04ab3b350026"
   },
   "outputs": [
    {
     "name": "stdout",
     "output_type": "stream",
     "text": [
      "12\n"
     ]
    }
   ],
   "source": [
    "def multiply_values(x,y):\n",
    "    z = x * y\n",
    "    return z\n",
    "\n",
    "print(multiply_values(3,4))"
   ]
  },
  {
   "cell_type": "code",
   "execution_count": 2,
   "metadata": {
    "colab": {
     "base_uri": "https://localhost:8080/"
    },
    "id": "Ja8m8_LdSu1V",
    "outputId": "1be93426-f450-4f1d-f496-2215227e9bbd"
   },
   "outputs": [
    {
     "data": {
      "text/plain": [
       "24"
      ]
     },
     "execution_count": 2,
     "metadata": {},
     "output_type": "execute_result"
    }
   ],
   "source": [
    "def findvolume(length=1, width=1, depth=1):\n",
    "  #print(\"Length = \" + str(length))\n",
    "  #print(\"Width = \" + str(width))\n",
    "  #print(\"Depth = \" + str(depth))\n",
    "  return length * width * depth;\n",
    "\n",
    "findvolume(1, 2, 3)\n",
    "findvolume(length=5, depth=2, width=4)\n",
    "findvolume(2, depth=3, width=4)"
   ]
  },
  {
   "cell_type": "code",
   "execution_count": 3,
   "metadata": {
    "colab": {
     "base_uri": "https://localhost:8080/"
    },
    "id": "vfx45WjHigHN",
    "outputId": "f1a40d76-0132-4cee-f4a3-06ceea9b219c"
   },
   "outputs": [
    {
     "name": "stdout",
     "output_type": "stream",
     "text": [
      "Sucharitha 25\n"
     ]
    }
   ],
   "source": [
    "def get_name_and_age():\n",
    "    name = \"Sucharitha\"\n",
    "    age = 25\n",
    "    return name, age\n",
    "\n",
    "person_name, person_age = get_name_and_age()\n",
    "print(person_name, person_age)"
   ]
  },
  {
   "cell_type": "markdown",
   "metadata": {
    "id": "98KKgugwik_h"
   },
   "source": [
    "b)Explore function scope and variable accessibility.\n",
    "\n",
    "A variable is only available from inside the region it is created. This is called scope.\n",
    "\n",
    "Local Scope: A variable created inside a function belongs to the local scope of that function, and can only be used inside that function.\n",
    "\n",
    "Global Scope: A variable created in the main body of the Python code is a global variable and belongs to the global scope. Global variables are available from within any scope, global and local.\n",
    "\n",
    "Global Keyword: If you need to create a global variable, but are stuck in the local scope, you can use the global keyword. The global keyword makes the variable global.\n",
    "\n",
    "Nonlocal Keyword: The nonlocal keyword is used to work with variables inside nested functions. The nonlocal keyword makes the variable belong to the outer function."
   ]
  },
  {
   "cell_type": "code",
   "execution_count": 4,
   "metadata": {
    "colab": {
     "base_uri": "https://localhost:8080/"
    },
    "id": "sX32rWEHi7aG",
    "outputId": "35d6c0c2-133c-4f01-86a1-44a28cde662b"
   },
   "outputs": [
    {
     "name": "stdout",
     "output_type": "stream",
     "text": [
      "15\n"
     ]
    }
   ],
   "source": [
    "#Local Scope\n",
    "def myfunc():\n",
    "  a = 15\n",
    "  print(a)\n",
    "\n",
    "myfunc()"
   ]
  },
  {
   "cell_type": "code",
   "execution_count": 5,
   "metadata": {
    "colab": {
     "base_uri": "https://localhost:8080/"
    },
    "id": "q5YF2oKrjRQw",
    "outputId": "15e503cb-8e69-47da-ffc3-b4f33fb96fe1"
   },
   "outputs": [
    {
     "name": "stdout",
     "output_type": "stream",
     "text": [
      "Sucharitha Kota\n",
      "Sucharitha\n",
      "Kota\n"
     ]
    }
   ],
   "source": [
    "#Global Scope\n",
    "firstName = \"Sucharitha\"\n",
    "lastName = \"Kota\"\n",
    "\n",
    "def myfunc():\n",
    "  print(firstName+\" \"+lastName  )\n",
    "\n",
    "myfunc()\n",
    "\n",
    "print(firstName)\n",
    "print(lastName)"
   ]
  },
  {
   "cell_type": "code",
   "execution_count": 6,
   "metadata": {
    "colab": {
     "base_uri": "https://localhost:8080/"
    },
    "id": "iygbLNeljzhw",
    "outputId": "4428d85e-b611-4c11-9f8c-dbfe4adc2f54"
   },
   "outputs": [
    {
     "name": "stdout",
     "output_type": "stream",
     "text": [
      "awesome\n"
     ]
    }
   ],
   "source": [
    "#Global Keyword\n",
    "\n",
    "def myfunc():\n",
    " global a\n",
    " a=\"awesome\"\n",
    "\n",
    "myfunc()\n",
    "print(a)"
   ]
  },
  {
   "cell_type": "code",
   "execution_count": 7,
   "metadata": {
    "colab": {
     "base_uri": "https://localhost:8080/"
    },
    "id": "59SgAyhTj-42",
    "outputId": "b644aae1-25be-4274-a5db-bb56ca79ae1a"
   },
   "outputs": [
    {
     "name": "stdout",
     "output_type": "stream",
     "text": [
      "5\n"
     ]
    }
   ],
   "source": [
    "#Nonlocal Keyword:\n",
    "\n",
    "def myfunc1():\n",
    "  b = 4\n",
    "  def myfunc2():\n",
    "    nonlocal b\n",
    "    b = 5\n",
    "  myfunc2()\n",
    "  return b\n",
    "\n",
    "print(myfunc1())"
   ]
  },
  {
   "cell_type": "markdown",
   "metadata": {
    "id": "etemFAiskoVn"
   },
   "source": [
    " c)Functions with default argument values."
   ]
  },
  {
   "cell_type": "code",
   "execution_count": 8,
   "metadata": {
    "colab": {
     "base_uri": "https://localhost:8080/"
    },
    "id": "5igVzWNUkutE",
    "outputId": "fc625a7b-9467-4691-b393-fcbeb5158a09"
   },
   "outputs": [
    {
     "name": "stdout",
     "output_type": "stream",
     "text": [
      "86.0\n",
      "30.0\n"
     ]
    }
   ],
   "source": [
    "def convert_temperature(value, to_unit=\"Fahrenheit\"):\n",
    "    if to_unit == \"Fahrenheit\":\n",
    "        return (value * 9/5) + 32\n",
    "    elif to_unit == \"Celsius\":\n",
    "        return (value - 32) * 5/9\n",
    "    else:\n",
    "        return \"Unknown unit\"\n",
    "\n",
    "print(convert_temperature(30))\n",
    "print(convert_temperature(86, \"Celsius\"))\n"
   ]
  },
  {
   "cell_type": "markdown",
   "metadata": {
    "id": "2fRg1saolp4l"
   },
   "source": [
    "d)Write recursive functions."
   ]
  },
  {
   "cell_type": "code",
   "execution_count": 9,
   "metadata": {
    "colab": {
     "base_uri": "https://localhost:8080/"
    },
    "id": "lGA-OKHRlt-s",
    "outputId": "28108469-4a3b-4e92-fec4-18caf0b084d2"
   },
   "outputs": [
    {
     "name": "stdout",
     "output_type": "stream",
     "text": [
      "8\n"
     ]
    }
   ],
   "source": [
    "def fibonacci(n):\n",
    "    if n == 0:\n",
    "        return 0\n",
    "    elif n == 1:\n",
    "        return 1\n",
    "    else:\n",
    "        return fibonacci(n - 1) + fibonacci(n - 2)\n",
    "\n",
    "print(fibonacci(6)) # Output: 8 (0, 1, 1, 2, 3, 5, 8)\n",
    "\n"
   ]
  },
  {
   "cell_type": "code",
   "execution_count": 10,
   "metadata": {
    "colab": {
     "base_uri": "https://localhost:8080/"
    },
    "id": "mwCQ-hcameB6",
    "outputId": "f5b24763-868e-4667-bc31-7b9c8cd844f7"
   },
   "outputs": [
    {
     "name": "stdout",
     "output_type": "stream",
     "text": [
      "8\n"
     ]
    }
   ],
   "source": [
    "def power(x, n):\n",
    "    if n == 0:\n",
    "        return 1\n",
    "    else:\n",
    "        return x * power(x, n - 1)\n",
    "\n",
    "print(power(2, 3))"
   ]
  },
  {
   "cell_type": "markdown",
   "metadata": {
    "id": "EWdXDUZEmt9l"
   },
   "source": [
    "e)Demonstrate how to use docstrings to document functions.\n",
    "\n",
    "In Python, docstrings are a convenient way to document functions, classes, and modules. A docstring is a string that appears as the first statement in a function, method, or class definition. It is used to describe the purpose and behavior of the function. Docstrings are enclosed in triple quotes (\"\"\"...\"\"\"), and they can span multiple lines."
   ]
  },
  {
   "cell_type": "code",
   "execution_count": 11,
   "metadata": {
    "colab": {
     "base_uri": "https://localhost:8080/"
    },
    "id": "gzo9noROmv0Z",
    "outputId": "18b7f6a4-25d6-4384-f251-47638ad74774"
   },
   "outputs": [
    {
     "name": "stdout",
     "output_type": "stream",
     "text": [
      "120\n"
     ]
    }
   ],
   "source": [
    "def factorial(n):\n",
    "    \"\"\"\n",
    "    Calculate the factorial of a non-negative integer n.\n",
    "\n",
    "    The factorial of a number n (denoted as n!) is the product of all positive integers less than or equal to n.\n",
    "    For example: 5! = 5 * 4 * 3 * 2 * 1 = 120.\n",
    "\n",
    "    Args:\n",
    "        n (int): A non-negative integer whose factorial is to be calculated.\n",
    "\n",
    "    Returns:\n",
    "        int: The factorial of the input integer n.\n",
    "\n",
    "    Raises:\n",
    "        ValueError: If n is a negative integer.\n",
    "\n",
    "    Example:\n",
    "        >>> factorial(5)\n",
    "        120\n",
    "        >>> factorial(0)\n",
    "        1\n",
    "    \"\"\"\n",
    "    if n < 0:\n",
    "        raise ValueError(\"Input must be a non-negative integer.\")\n",
    "    if n == 0 or n == 1:\n",
    "        return 1\n",
    "    return n * factorial(n - 1)\n",
    "\n",
    "\n",
    "print(factorial(5))\n"
   ]
  },
  {
   "cell_type": "markdown",
   "metadata": {
    "id": "hMFrfT1xopbH"
   },
   "source": [
    "2) Lambda Functions.\n",
    "\n",
    "Lambda functions in Python are small, anonymous functions defined using the lambda keyword. They can take any number of arguments but only have one expression, which is evaluated and returned.\n",
    "\n",
    "a)Create simple lambda functions for various operations."
   ]
  },
  {
   "cell_type": "code",
   "execution_count": 12,
   "metadata": {
    "colab": {
     "base_uri": "https://localhost:8080/"
    },
    "id": "7HgIgZQypBhV",
    "outputId": "3a6ebe1e-5b30-450e-e8b3-4ea04dfcf67c"
   },
   "outputs": [
    {
     "name": "stdout",
     "output_type": "stream",
     "text": [
      "8\n"
     ]
    }
   ],
   "source": [
    "# Add two numbers\n",
    "add = lambda x, y: x + y\n",
    "print(add(3, 5))\n"
   ]
  },
  {
   "cell_type": "code",
   "execution_count": 13,
   "metadata": {
    "colab": {
     "base_uri": "https://localhost:8080/"
    },
    "id": "ktIf6WNxpbzX",
    "outputId": "b77a1ce9-e7bd-4a2b-f5fa-46dda72ebba5"
   },
   "outputs": [
    {
     "name": "stdout",
     "output_type": "stream",
     "text": [
      "True\n",
      "False\n"
     ]
    }
   ],
   "source": [
    "#function to check even number\n",
    "is_even = lambda x: x % 2 == 0\n",
    "print(is_even(4))\n",
    "print(is_even(7))\n"
   ]
  },
  {
   "cell_type": "code",
   "execution_count": 14,
   "metadata": {
    "colab": {
     "base_uri": "https://localhost:8080/"
    },
    "id": "CmAIqMekpn-i",
    "outputId": "10fe4a2d-eb08-4f3b-e225-6423887f5cda"
   },
   "outputs": [
    {
     "name": "stdout",
     "output_type": "stream",
     "text": [
      "16\n"
     ]
    }
   ],
   "source": [
    "#Function to check the square of a number\n",
    "square = lambda x: x ** 2\n",
    "print(square(4))\n"
   ]
  },
  {
   "cell_type": "code",
   "execution_count": 15,
   "metadata": {
    "colab": {
     "base_uri": "https://localhost:8080/"
    },
    "id": "7JHQugiJp-Oj",
    "outputId": "f46c47b4-6afd-41dd-953d-4f940e0db843"
   },
   "outputs": [
    {
     "name": "stdout",
     "output_type": "stream",
     "text": [
      "Hello, World!\n"
     ]
    }
   ],
   "source": [
    "#Concate Strings\n",
    "concat = lambda a, b: a + b\n",
    "print(concat(\"Hello, \", \"World!\"))  # Output: \"Hello, World!\"\n"
   ]
  },
  {
   "cell_type": "markdown",
   "metadata": {
    "id": "kw3psTXcqHHl"
   },
   "source": [
    "b)Use lambda functions with built-in functions like map, filter, and reduce.\n",
    "\n",
    "Lambda functions are powerful tools in Python that can be used effectively with built-in functions like map, filter, and reduce. These combinations allow for concise and efficient data manipulation."
   ]
  },
  {
   "cell_type": "code",
   "execution_count": 16,
   "metadata": {
    "colab": {
     "base_uri": "https://localhost:8080/"
    },
    "id": "ieTi0Pz8qJD0",
    "outputId": "89783c97-e9e0-4582-8b26-eda472730cf2"
   },
   "outputs": [
    {
     "name": "stdout",
     "output_type": "stream",
     "text": [
      "[2, 4, 6, 8, 10]\n"
     ]
    }
   ],
   "source": [
    "#Map function with Lambda\n",
    "numbers = [1, 2, 3, 4, 5]\n",
    "doubled_numbers = list(map(lambda x: x * 2, numbers))\n",
    "\n",
    "print(doubled_numbers)\n"
   ]
  },
  {
   "cell_type": "code",
   "execution_count": 17,
   "metadata": {
    "colab": {
     "base_uri": "https://localhost:8080/"
    },
    "id": "lhLt_FjrqvER",
    "outputId": "62336038-df4d-4d18-a4b6-be9c328bc512"
   },
   "outputs": [
    {
     "name": "stdout",
     "output_type": "stream",
     "text": [
      "[2, 4, 6, 8, 10]\n"
     ]
    }
   ],
   "source": [
    "#Filter function with Lambda\n",
    "numbers = [1, 2, 3, 4, 5, 6, 7, 8, 9, 10]\n",
    "even_numbers = list(filter(lambda x: x % 2 == 0, numbers))\n",
    "\n",
    "print(even_numbers)\n"
   ]
  },
  {
   "cell_type": "code",
   "execution_count": 18,
   "metadata": {
    "colab": {
     "base_uri": "https://localhost:8080/"
    },
    "id": "fdDPUfqFq66t",
    "outputId": "3c6992bf-1c72-4ca2-dc3f-46691db9079b"
   },
   "outputs": [
    {
     "name": "stdout",
     "output_type": "stream",
     "text": [
      "24\n"
     ]
    }
   ],
   "source": [
    "#Reduce function with lambda\n",
    "from functools import reduce\n",
    "\n",
    "numbers = [1, 2, 3, 4]\n",
    "product = reduce(lambda x, y: x * y, numbers)\n",
    "\n",
    "print(product)\n"
   ]
  },
  {
   "cell_type": "markdown",
   "metadata": {
    "id": "T4jR9vagrXsI"
   },
   "source": [
    "c)Compare lambda functions with regular functions in terms of syntax and use cases.\n",
    "\n",
    "Lambda functions and regular functions (defined using def) are both used to define functions in Python, but they differ in several ways, including syntax, use cases, and functionality.\n",
    "\n",
    "Regular Functions:\n",
    "\n",
    "Regular functions are defined using the def keyword. They are more versatile and can contain multiple expressions and statements, including conditionals, loops, and return statements.\n",
    "\n",
    "lambda Functions:\n",
    "\n",
    "Lambda functions are short, anonymous functions defined using the lambda keyword. They are typically used for small, throwaway functions that can be defined in a single line."
   ]
  },
  {
   "cell_type": "code",
   "execution_count": 21,
   "metadata": {
    "colab": {
     "base_uri": "https://localhost:8080/"
    },
    "id": "XUiV8iIirZTG",
    "outputId": "d07614a6-f755-4e6e-ff98-0432a7ccd89b"
   },
   "outputs": [
    {
     "name": "stdout",
     "output_type": "stream",
     "text": [
      "[(3, 1), (1, 2), (2, 3), (5, 4)]\n"
     ]
    }
   ],
   "source": [
    "#Regular Function in Sorting\n",
    "def get_second_element(pair):\n",
    "    return pair[1]\n",
    "\n",
    "pairs = [(1, 2), (3, 1), (5, 4), (2, 3)]\n",
    "sorted_pairs = sorted(pairs, key=get_second_element)\n",
    "print(sorted_pairs)\n"
   ]
  },
  {
   "cell_type": "code",
   "execution_count": 22,
   "metadata": {
    "colab": {
     "base_uri": "https://localhost:8080/"
    },
    "id": "_sxtgVsUskR4",
    "outputId": "2a4bb4a0-3eab-4080-c6b8-db1702e081ad"
   },
   "outputs": [
    {
     "name": "stdout",
     "output_type": "stream",
     "text": [
      "[(3, 1), (1, 2), (2, 3), (5, 4)]\n"
     ]
    }
   ],
   "source": [
    "#Lambda Function in Sorting\n",
    "pairs = [(1, 2), (3, 1), (5, 4), (2, 3)]\n",
    "sorted_pairs = sorted(pairs, key=lambda x: x[1])\n",
    "print(sorted_pairs)\n"
   ]
  },
  {
   "cell_type": "markdown",
   "metadata": {
    "id": "rqyOGQfNtAgv"
   },
   "source": [
    "3) Numpy\n",
    "\n",
    "NumPy is a Python library used for working with arrays.It also has functions for working in domain of linear algebra, fourier transform, and matrices.NumPy was created in 2005 by Travis Oliphant. It is an open source project and you can use it freely.\n",
    "\n",
    "NumPy stands for Numerical Python.\n",
    "\n",
    "a)Create different types of NumPy arrays (1D, 2D, 3D)."
   ]
  },
  {
   "cell_type": "code",
   "execution_count": 23,
   "metadata": {
    "colab": {
     "base_uri": "https://localhost:8080/"
    },
    "id": "9MKUOoVItK8z",
    "outputId": "4c97ee38-d720-4086-9bcf-545dfb50ae3d"
   },
   "outputs": [
    {
     "name": "stdout",
     "output_type": "stream",
     "text": [
      "[1 2 3 4 5]\n"
     ]
    }
   ],
   "source": [
    "#Creating 1D array with numpy\n",
    "import numpy as np\n",
    "arr = np.array([1, 2, 3, 4, 5])\n",
    "print(arr)\n"
   ]
  },
  {
   "cell_type": "code",
   "execution_count": 24,
   "metadata": {
    "colab": {
     "base_uri": "https://localhost:8080/"
    },
    "id": "3J8IoZcsuGpY",
    "outputId": "408bf676-2bab-4a3c-97e4-7b4885e866e6"
   },
   "outputs": [
    {
     "name": "stdout",
     "output_type": "stream",
     "text": [
      "[[1 2 3]\n",
      " [4 5 6]]\n"
     ]
    }
   ],
   "source": [
    "#Creating 2D array with numpy\n",
    "import numpy as np\n",
    "arr = np.array([[1, 2, 3], [4, 5, 6]])\n",
    "print(arr)"
   ]
  },
  {
   "cell_type": "code",
   "execution_count": 25,
   "metadata": {
    "colab": {
     "base_uri": "https://localhost:8080/"
    },
    "id": "7H3B-Ih6uOjA",
    "outputId": "9dda8a10-4350-4aec-fa50-858f356f56cc"
   },
   "outputs": [
    {
     "name": "stdout",
     "output_type": "stream",
     "text": [
      "[[[1 2 3]\n",
      "  [4 5 6]]\n",
      "\n",
      " [[1 2 3]\n",
      "  [4 5 6]]]\n"
     ]
    }
   ],
   "source": [
    "#Creating 3D array with numpy\n",
    "import numpy as np\n",
    "arr = np.array([[[1, 2, 3], [4, 5, 6]], [[1, 2, 3], [4, 5, 6]]])\n",
    "print(arr)"
   ]
  },
  {
   "cell_type": "markdown",
   "metadata": {
    "id": "vSCBTX5aubzV"
   },
   "source": [
    "b)Perform basic arithmetic operations on arrays."
   ]
  },
  {
   "cell_type": "code",
   "execution_count": 26,
   "metadata": {
    "colab": {
     "base_uri": "https://localhost:8080/"
    },
    "id": "hAv1JXsYufI3",
    "outputId": "61dbf736-b5a7-4bbe-b76a-3d8f4d026fe5"
   },
   "outputs": [
    {
     "name": "stdout",
     "output_type": "stream",
     "text": [
      "1D Array Addition:\n",
      "[11 22 33 44]\n",
      "\n",
      "2D Array Addition:\n",
      "[[ 6  8]\n",
      " [10 12]]\n",
      "1D Array Subtraction:\n",
      "[ 9 18 27 36]\n",
      "\n",
      "2D Array Subtraction:\n",
      "[[-4 -4]\n",
      " [-4 -4]]\n",
      "1D Array Multiplication:\n",
      "[ 10  40  90 160]\n",
      "\n",
      "2D Array Multiplication:\n",
      "[[ 5 12]\n",
      " [21 32]]\n",
      "1D Array Division:\n",
      "[10. 10. 10. 10.]\n",
      "\n",
      "2D Array Division:\n",
      "[[0.2        0.33333333]\n",
      " [0.42857143 0.5       ]]\n"
     ]
    }
   ],
   "source": [
    "import numpy as np\n",
    "arr1 = np.array([10, 20, 30, 40])\n",
    "arr2 = np.array([1, 2, 3, 4])\n",
    "arr3 = np.array([[1, 2], [3, 4]])\n",
    "arr4 = np.array([[5, 6], [7, 8]])\n",
    "\n",
    "# 1D Array Addition\n",
    "sum_1d = arr1 + arr2\n",
    "print(\"1D Array Addition:\")\n",
    "print(sum_1d)\n",
    "\n",
    "# 2D Array Addition\n",
    "sum_2d = arr3 + arr4\n",
    "print(\"\\n2D Array Addition:\")\n",
    "print(sum_2d)\n",
    "\n",
    "# 1D Array Subtraction\n",
    "diff_1d = arr1 - arr2\n",
    "print(\"1D Array Subtraction:\")\n",
    "print(diff_1d)\n",
    "\n",
    "# 2D Array Subtraction\n",
    "diff_2d = arr3 - arr4\n",
    "print(\"\\n2D Array Subtraction:\")\n",
    "print(diff_2d)\n",
    "\n",
    "\n",
    "# 1D Array Multiplication\n",
    "prod_1d = arr1 * arr2\n",
    "print(\"1D Array Multiplication:\")\n",
    "print(prod_1d)\n",
    "\n",
    "# 2D Array Multiplication\n",
    "prod_2d = arr3 * arr4\n",
    "print(\"\\n2D Array Multiplication:\")\n",
    "print(prod_2d)\n",
    "\n",
    "# 1D Array Division\n",
    "div_1d = arr1 / arr2\n",
    "print(\"1D Array Division:\")\n",
    "print(div_1d)\n",
    "\n",
    "# 2D Array Division\n",
    "div_2d = arr3 / arr4\n",
    "print(\"\\n2D Array Division:\")\n",
    "print(div_2d)\n"
   ]
  },
  {
   "cell_type": "markdown",
   "metadata": {
    "id": "zs57qC-Cvbkb"
   },
   "source": [
    "c)Use indexing and slicing to access elements.\n",
    "\n",
    "In NumPy, indexing and slicing are powerful tools to access and manipulate array elements. These concepts are similar to Python’s standard indexing and slicing for lists, but NumPy arrays support more advanced functionality like multi-dimensional slicing and advanced indexing."
   ]
  },
  {
   "cell_type": "code",
   "execution_count": null,
   "metadata": {
    "colab": {
     "base_uri": "https://localhost:8080/"
    },
    "id": "5mCxZYGzvc3W",
    "outputId": "72239cfc-1e5f-498b-9b8a-062394489ca3"
   },
   "outputs": [
    {
     "name": "stdout",
     "output_type": "stream",
     "text": [
      "Element at index 0: 10\n",
      "Element at index 2: 30\n",
      "Element at index -1 (last element): 50\n",
      "Slice from index 1 to 3: [20 30 40]\n",
      "Slice from the beginning to index 2: [10 20 30]\n",
      "Slice from index 2 to the end: [30 40 50]\n",
      "Slice with step (every second element): [10 30 50]\n",
      "Element at row 0, column 1: 2\n",
      "Element at row 2, column 2: 9\n",
      "Slice rows 0 to 1, columns 1 to 2: [[2 3]\n",
      " [5 6]]\n",
      "Second column: [2 5 8]\n",
      "Second row: [4 5 6]\n"
     ]
    }
   ],
   "source": [
    "import numpy as np\n",
    "\n",
    "# Creating a 1D array\n",
    "arr_1d = np.array([10, 20, 30, 40, 50])\n",
    "\n",
    "# Accessing elements by index\n",
    "print(\"Element at index 0:\", arr_1d[0])  # 10\n",
    "print(\"Element at index 2:\", arr_1d[2])  # 30\n",
    "print(\"Element at index -1 (last element):\", arr_1d[-1])  # 50\n",
    "\n",
    "# Slicing a 1D array\n",
    "print(\"Slice from index 1 to 3:\", arr_1d[1:4])  # [20, 30, 40]\n",
    "print(\"Slice from the beginning to index 2:\", arr_1d[:3])  # [10, 20, 30]\n",
    "print(\"Slice from index 2 to the end:\", arr_1d[2:])  # [30, 40, 50]\n",
    "print(\"Slice with step (every second element):\", arr_1d[::2])  # [10, 30, 50]\n",
    "\n",
    "# Creating a 2D array\n",
    "arr_2d = np.array([[1, 2, 3], [4, 5, 6], [7, 8, 9]])\n",
    "\n",
    "# Accessing elements by row and column\n",
    "print(\"Element at row 0, column 1:\", arr_2d[0, 1])  # 2\n",
    "print(\"Element at row 2, column 2:\", arr_2d[2, 2])  # 9\n",
    "\n",
    "# Slicing rows and columns in a 2D array\n",
    "print(\"Slice rows 0 to 1, columns 1 to 2:\", arr_2d[0:2, 1:3])\n",
    "# Output: [[2 3]\n",
    "#          [5 6]]\n",
    "\n",
    "# Slicing the entire second column\n",
    "print(\"Second column:\", arr_2d[:, 1])  # [2, 5, 8]\n",
    "\n",
    "# Slicing the entire second row\n",
    "print(\"Second row:\", arr_2d[1, :])  # [4, 5, 6]\n",
    "\n"
   ]
  },
  {
   "cell_type": "markdown",
   "metadata": {
    "id": "wUstVe63wZtl"
   },
   "source": [
    "d)Explore array manipulation functions (reshape, transpose, concatenate).\n",
    "\n",
    "\n",
    "NumPy provides several powerful functions to manipulate arrays. These functions allow you to modify the shape, order, and composition of arrays efficiently. Below, I'll explore three key array manipulation functions in NumPy."
   ]
  },
  {
   "cell_type": "code",
   "execution_count": 27,
   "metadata": {
    "colab": {
     "base_uri": "https://localhost:8080/"
    },
    "id": "LJKNnr4rwq61",
    "outputId": "19e03e66-a5bb-4cea-8727-bbcdb2af54bf"
   },
   "outputs": [
    {
     "name": "stdout",
     "output_type": "stream",
     "text": [
      "Reshaped Array (2x6):\n",
      "[[ 1  2  3  4  5  6]\n",
      " [ 7  8  9 10 11 12]]\n",
      "\n",
      "Reshaped Array (3x4):\n",
      "[[ 1  2  3  4]\n",
      " [ 5  6  7  8]\n",
      " [ 9 10 11 12]]\n",
      "Transposed Array (2D):\n",
      "[[1 4]\n",
      " [2 5]\n",
      " [3 6]]\n",
      "\n",
      "Transposed 3D Array:\n",
      "[[[1 2]\n",
      "  [5 6]]\n",
      "\n",
      " [[3 4]\n",
      "  [7 8]]]\n",
      "Concatenated 1D Array:\n",
      "[1 2 3 4 5 6]\n",
      "\n",
      "Concatenated 2D Array along axis 0:\n",
      "[[ 1  2  3]\n",
      " [ 4  5  6]\n",
      " [ 7  8  9]\n",
      " [10 11 12]]\n",
      "\n",
      "Concatenated 2D Array along axis 1:\n",
      "[[ 1  2  3  7  8  9]\n",
      " [ 4  5  6 10 11 12]]\n"
     ]
    }
   ],
   "source": [
    "import numpy as np\n",
    "\n",
    "# Create a 1D array\n",
    "arr = np.array([1, 2, 3, 4, 5, 6, 7, 8, 9, 10, 11, 12])\n",
    "\n",
    "# Reshape the array into a 2x6 matrix (2 rows and 6 columns)\n",
    "reshaped_arr = arr.reshape(2, 6)\n",
    "print(\"Reshaped Array (2x6):\")\n",
    "print(reshaped_arr)\n",
    "\n",
    "# Reshape the array into a 3x4 matrix (3 rows and 4 columns)\n",
    "reshaped_arr_2 = arr.reshape(3, 4)\n",
    "print(\"\\nReshaped Array (3x4):\")\n",
    "print(reshaped_arr_2)\n",
    "\n",
    "# Create a 2D array (matrix)\n",
    "arr_2d = np.array([[1, 2, 3], [4, 5, 6]])\n",
    "\n",
    "# Transpose the 2D array (swap rows and columns)\n",
    "transposed_arr = arr_2d.T\n",
    "print(\"Transposed Array (2D):\")\n",
    "print(transposed_arr)\n",
    "\n",
    "# Transpose a higher-dimensional array\n",
    "arr_3d = np.array([[[1, 2], [3, 4]], [[5, 6], [7, 8]]])\n",
    "transposed_3d = arr_3d.transpose(1, 0, 2)  # Change the order of axes\n",
    "print(\"\\nTransposed 3D Array:\")\n",
    "print(transposed_3d)\n",
    "\n",
    "\n",
    "# Create two 1D arrays\n",
    "arr1 = np.array([1, 2, 3])\n",
    "arr2 = np.array([4, 5, 6])\n",
    "\n",
    "# Concatenate along axis 0 (join arrays end-to-end)\n",
    "concatenated_1d = np.concatenate((arr1, arr2), axis=0)\n",
    "print(\"Concatenated 1D Array:\")\n",
    "print(concatenated_1d)\n",
    "\n",
    "# Create two 2D arrays\n",
    "arr3 = np.array([[1, 2, 3], [4, 5, 6]])\n",
    "arr4 = np.array([[7, 8, 9], [10, 11, 12]])\n",
    "\n",
    "# Concatenate along axis 0 (rows)\n",
    "concatenated_2d_axis0 = np.concatenate((arr3, arr4), axis=0)\n",
    "print(\"\\nConcatenated 2D Array along axis 0:\")\n",
    "print(concatenated_2d_axis0)\n",
    "\n",
    "# Concatenate along axis 1 (columns)\n",
    "concatenated_2d_axis1 = np.concatenate((arr3, arr4), axis=1)\n",
    "print(\"\\nConcatenated 2D Array along axis 1:\")\n",
    "print(concatenated_2d_axis1)\n",
    "\n"
   ]
  },
  {
   "cell_type": "markdown",
   "metadata": {
    "id": "GKa7BtqAxI5X"
   },
   "source": [
    "e)Create and use NumPy random number generators.\n",
    "\n",
    "NumPy provides the numpy.random module, which allows you to generate random numbers and perform random sampling from a variety of distributions. The module includes functions to generate random numbers from uniform distributions, normal distributions, and others, as well as to shuffle and sample elements randomly.\n",
    "\n"
   ]
  },
  {
   "cell_type": "code",
   "execution_count": 28,
   "metadata": {
    "colab": {
     "base_uri": "https://localhost:8080/"
    },
    "id": "VYpcYUm0xfXr",
    "outputId": "da035c79-8392-4bfc-8888-69114595ce58"
   },
   "outputs": [
    {
     "name": "stdout",
     "output_type": "stream",
     "text": [
      "Random Integer: 6\n",
      "Random Integer Array: [29 24 19 35  8]\n"
     ]
    }
   ],
   "source": [
    "import numpy as np\n",
    "\n",
    "# Generate a single random integer between 0 and 10\n",
    "rand_int = np.random.randint(0, 10)\n",
    "print(\"Random Integer:\", rand_int)\n",
    "\n",
    "# Generate an array of 5 random integers between 1 and 100\n",
    "rand_int_arr = np.random.randint(1, 100, size=5)\n",
    "print(\"Random Integer Array:\", rand_int_arr)\n"
   ]
  },
  {
   "cell_type": "markdown",
   "metadata": {
    "id": "yVRBH9zexkR9"
   },
   "source": [
    "#4)Pandas\n",
    "\n",
    "Pandas is a Python library used for working with data sets.It has functions for analyzing, cleaning, exploring, and manipulating data.The name \"Pandas\" has a reference to both \"Panel Data\", and \"Python Data Analysis\" and was created by Wes McKinney in 2008.\n",
    "Pandas allows us to analyze big data and make conclusions based on statistical theories.Pandas can clean messy data sets, and make them readable and relevant.\n",
    "Relevant data is very important in data science.\n",
    "\n",
    "a)Create Pandas Series and DataFrames.\n"
   ]
  },
  {
   "cell_type": "code",
   "execution_count": 29,
   "metadata": {
    "colab": {
     "base_uri": "https://localhost:8080/"
    },
    "id": "snaku25fx9SV",
    "outputId": "2d2befca-f915-4893-8335-329a6b14cfb5"
   },
   "outputs": [
    {
     "name": "stdout",
     "output_type": "stream",
     "text": [
      "Series from list:\n",
      "0    10\n",
      "1    20\n",
      "2    30\n",
      "3    40\n",
      "4    50\n",
      "dtype: int64\n"
     ]
    }
   ],
   "source": [
    "import pandas as pd\n",
    "\n",
    "# Create a Series from a list\n",
    "data = [10, 20, 30, 40, 50]\n",
    "series = pd.Series(data)\n",
    "\n",
    "print(\"Series from list:\")\n",
    "print(series)\n"
   ]
  },
  {
   "cell_type": "code",
   "execution_count": 30,
   "metadata": {
    "colab": {
     "base_uri": "https://localhost:8080/"
    },
    "id": "qgBBicHEyWdk",
    "outputId": "c010f78c-c231-4a6c-ad98-e96a686efc22"
   },
   "outputs": [
    {
     "name": "stdout",
     "output_type": "stream",
     "text": [
      "DataFrame from dictionary:\n",
      "      Name  Age         City\n",
      "0    Alice   25     New York\n",
      "1      Bob   30  Los Angeles\n",
      "2  Charlie   35      Chicago\n",
      "3    David   40      Houston\n"
     ]
    }
   ],
   "source": [
    "# Create a DataFrame from a dictionary\n",
    "data_dict = {\n",
    "    'Name': ['Alice', 'Bob', 'Charlie', 'David'],\n",
    "    'Age': [25, 30, 35, 40],\n",
    "    'City': ['New York', 'Los Angeles', 'Chicago', 'Houston']\n",
    "}\n",
    "\n",
    "df = pd.DataFrame(data_dict)\n",
    "\n",
    "print(\"DataFrame from dictionary:\")\n",
    "print(df)\n"
   ]
  },
  {
   "cell_type": "markdown",
   "metadata": {
    "id": "zzZSk6wqyaaN"
   },
   "source": [
    "b)Load data from various file formats (CSV, Excel, etc.).\n",
    "\n",
    "Pandas provides convenient functions to load data from various file formats such as CSV, Excel, JSON, and more. Below, I'll demonstrate how to load data from several common file formats including CSV, Excel."
   ]
  },
  {
   "cell_type": "code",
   "execution_count": 31,
   "metadata": {
    "colab": {
     "base_uri": "https://localhost:8080/"
    },
    "id": "FgISTi6iyoT5",
    "outputId": "b2783d8f-76bd-47e9-b004-3fbab7dde75f"
   },
   "outputs": [
    {
     "name": "stdout",
     "output_type": "stream",
     "text": [
      "Data loaded from CSV:\n",
      "   Name       \"Sex\"   \"Age\"   \"Height (in)\"   \"Weight (lbs)\"\n",
      "0  Alex         \"M\"      41              74              170\n",
      "1  Bert         \"M\"      42              68              166\n",
      "2  Carl         \"M\"      32              70              155\n",
      "3  Dave         \"M\"      39              72              167\n",
      "4  Elly         \"F\"      30              66              124\n"
     ]
    }
   ],
   "source": [
    "import pandas as pd\n",
    "\n",
    "# Load data from a CSV file\n",
    "df_csv = pd.read_csv(\"https://people.sc.fsu.edu/~jburkardt/data/csv/biostats.csv\")\n",
    "\n",
    "print(\"Data loaded from CSV:\")\n",
    "print(df_csv.head())  # Display the first 5 rows\n"
   ]
  },
  {
   "cell_type": "code",
   "execution_count": 33,
   "metadata": {
    "colab": {
     "base_uri": "https://localhost:8080/"
    },
    "id": "tRS9VmTt4Ttv",
    "outputId": "621ef731-11ca-4c7d-ccae-04bc8c5d1871"
   },
   "outputs": [
    {
     "name": "stdout",
     "output_type": "stream",
     "text": [
      "Data loaded from JSON:\n",
      "            name language                id  \\\n",
      "0  Adeel Solangi   Sindhi  V59OF92YF627HFY0   \n",
      "1  Afzal Ghaffar   Sindhi  ENTOCR13RSCLZ6KU   \n",
      "2  Aamir Solangi   Sindhi  IAKPO3R4761JDRVG   \n",
      "3  Abla Dilmurat   Uyghur  5ZVOEPMJUI4MB4EN   \n",
      "4       Adil Eli   Uyghur  6VTI8X6LL0MMPJCC   \n",
      "\n",
      "                                                 bio  version  \n",
      "0  Donec lobortis eleifend condimentum. Cras dict...     6.10  \n",
      "1  Aliquam sollicitudin ante ligula, eget malesua...     1.88  \n",
      "2  Vestibulum pharetra libero et velit gravida eu...     7.27  \n",
      "3  Donec lobortis eleifend condimentum. Morbi ac ...     2.53  \n",
      "4  Vivamus id faucibus velit, id posuere leo. Mor...     6.49  \n"
     ]
    }
   ],
   "source": [
    "import pandas as pd\n",
    "df_csv = pd.read_json(\"https://microsoftedge.github.io/Demos/json-dummy-data/64KB.json\")\n",
    "print(\"Data loaded from JSON:\")\n",
    "print(df_csv.head())"
   ]
  },
  {
   "cell_type": "markdown",
   "metadata": {
    "id": "jxfvMacC6Jvs"
   },
   "source": [
    "c)Perform data cleaning and manipulation tasks.\n",
    "\n",
    "Data cleaning and manipulation are essential steps in the data analysis process. These tasks involve cleaning the dataset, handling missing values, removing duplicates, converting data types, and applying transformations to the data to make it ready for analysis.\n",
    "\n"
   ]
  },
  {
   "cell_type": "code",
   "execution_count": 34,
   "metadata": {
    "colab": {
     "base_uri": "https://localhost:8080/"
    },
    "id": "X-kHmDk66hAr",
    "outputId": "79cae50e-35f7-4dc0-ccd2-d53f8f4093cf"
   },
   "outputs": [
    {
     "name": "stdout",
     "output_type": "stream",
     "text": [
      "   Name       \"Sex\"   \"Age\"   \"Height (in)\"   \"Weight (lbs)\"\n",
      "0  Alex         \"M\"      41              74              170\n",
      "1  Bert         \"M\"      42              68              166\n",
      "2  Carl         \"M\"      32              70              155\n",
      "3  Dave         \"M\"      39              72              167\n",
      "4  Elly         \"F\"      30              66              124\n",
      "Missing values in each column:\n",
      "Name               0\n",
      "     \"Sex\"         0\n",
      " \"Age\"             0\n",
      " \"Height (in)\"     0\n",
      " \"Weight (lbs)\"    0\n",
      "dtype: int64\n",
      "    Name       \"Sex\"   \"Age\"   \"Height (in)\"   \"Weight (lbs)\"\n",
      "0   Alex         \"M\"      41              74              170\n",
      "1   Bert         \"M\"      42              68              166\n",
      "2   Carl         \"M\"      32              70              155\n",
      "3   Dave         \"M\"      39              72              167\n",
      "4   Elly         \"F\"      30              66              124\n",
      "5   Fran         \"F\"      33              66              115\n",
      "6   Gwen         \"F\"      26              64              121\n",
      "7   Hank         \"M\"      30              71              158\n",
      "8   Ivan         \"M\"      53              72              175\n",
      "9   Jake         \"M\"      32              69              143\n",
      "10  Kate         \"F\"      47              69              139\n",
      "11  Luke         \"M\"      34              72              163\n",
      "12  Myra         \"F\"      23              62               98\n",
      "13  Neil         \"M\"      36              75              160\n",
      "14  Omar         \"M\"      38              70              145\n",
      "15  Page         \"F\"      31              67              135\n",
      "16  Quin         \"M\"      29              71              176\n",
      "17  Ruth         \"F\"      28              65              131\n",
      "   Name       \"Sex\"   \"Age\"   \"Height (in)\"   \"Weight (lbs)\"\n",
      "0  Alex         \"M\"      41              74              170\n",
      "1  Bert         \"M\"      42              68              166\n",
      "2  Carl         \"M\"      32              70              155\n",
      "3  Dave         \"M\"      39              72              167\n",
      "4  Elly         \"F\"      30              66              124\n",
      "   Name       \"Sex\"   \"Age\"   \"Height (in)\"   \"Weight (lbs)\"\n",
      "0  Alex         \"M\"      41              74              170\n",
      "1  Bert         \"M\"      42              68              166\n",
      "2  Carl         \"M\"      32              70              155\n",
      "3  Dave         \"M\"      39              72              167\n",
      "4  Elly         \"F\"      30              66              124\n",
      "  full_Name       \"Sex\"   \"Age\"   \"Height (in)\"   \"Weight (lbs)\"\n",
      "0      Alex         \"M\"      41              74              170\n",
      "1      Bert         \"M\"      42              68              166\n",
      "2      Carl         \"M\"      32              70              155\n",
      "3      Dave         \"M\"      39              72              167\n",
      "4      Elly         \"F\"      30              66              124\n"
     ]
    }
   ],
   "source": [
    "import pandas as pd\n",
    "\n",
    "# Load data from a CSV file\n",
    "df = pd.read_csv('https://people.sc.fsu.edu/~jburkardt/data/csv/biostats.csv')  # Replace with your file path\n",
    "\n",
    "# Display the first few rows\n",
    "print(df.head())\n",
    "\n",
    "# Check for missing values in each column\n",
    "missing_values = df.isnull().sum()\n",
    "print(\"Missing values in each column:\")\n",
    "print(missing_values)\n",
    "\n",
    "# Fill missing values with a constant (e.g., 0)\n",
    "df_filled = df.fillna(0)\n",
    "\n",
    "# Display the cleaned DataFrame\n",
    "print(df_filled)\n",
    "\n",
    "# Drop rows with any missing values\n",
    "df_dropped = df.dropna()\n",
    "\n",
    "# Drop columns with any missing values\n",
    "df_dropped_columns = df.dropna(axis=1)\n",
    "\n",
    "print(df_dropped.head())\n",
    "\n",
    "# Identify duplicate rows\n",
    "duplicates = df.duplicated()\n",
    "\n",
    "# Remove duplicate rows\n",
    "df_no_duplicates = df.drop_duplicates()\n",
    "\n",
    "print(df_no_duplicates.head())\n",
    "\n",
    "# Rename columns\n",
    "df_renamed = df.rename(columns={'Name': 'full_Name'})\n",
    "\n",
    "print(df_renamed.head())\n",
    "\n",
    "\n",
    "\n"
   ]
  },
  {
   "cell_type": "markdown",
   "metadata": {
    "id": "kpBvxdwy7ML6"
   },
   "source": [
    "d)Explore data analysis and visualization using Pandas.\n",
    "\n",
    "Pandas is not only a powerful tool for data cleaning and manipulation, but it also provides excellent features for data analysis and visualization.\n",
    "\n"
   ]
  },
  {
   "cell_type": "code",
   "execution_count": 35,
   "metadata": {
    "colab": {
     "base_uri": "https://localhost:8080/"
    },
    "id": "tQ9ww8Lc7pz2",
    "outputId": "562f1a73-0549-46f8-cb2a-b41bb7e5c003"
   },
   "outputs": [
    {
     "name": "stdout",
     "output_type": "stream",
     "text": [
      "             Age        Salary\n",
      "count   5.000000      5.000000\n",
      "mean   35.000000  70000.000000\n",
      "std     7.905694  15811.388301\n",
      "min    25.000000  50000.000000\n",
      "25%    30.000000  60000.000000\n",
      "50%    35.000000  70000.000000\n",
      "75%    40.000000  80000.000000\n",
      "max    45.000000  90000.000000\n",
      "              Age   Salary\n",
      "City                      \n",
      "Chicago      35.0  70000.0\n",
      "Los Angeles  37.5  75000.0\n",
      "New York     32.5  65000.0\n"
     ]
    }
   ],
   "source": [
    "#Basic Data analysis using pandas\n",
    "import pandas as pd\n",
    "\n",
    "# Example DataFrame\n",
    "df = pd.DataFrame({\n",
    "    'Age': [25, 30, 35, 40, 45],\n",
    "    'Salary': [50000, 60000, 70000, 80000, 90000]\n",
    "})\n",
    "\n",
    "# Get descriptive statistics for numerical columns\n",
    "print(df.describe())\n",
    "\n",
    "df2 = pd.DataFrame({\n",
    "    'City': ['New York', 'Los Angeles', 'Chicago', 'New York', 'Los Angeles'],\n",
    "    'Age': [25, 30, 35, 40, 45],\n",
    "    'Salary': [50000, 60000, 70000, 80000, 90000]\n",
    "})\n",
    "\n",
    "# Group by 'City' and calculate the mean of 'Age' and 'Salary'\n",
    "df_grouped = df2.groupby('City').agg({'Age': 'mean', 'Salary': 'mean'})\n",
    "print(df_grouped)\n",
    "\n",
    "\n"
   ]
  },
  {
   "cell_type": "code",
   "execution_count": 40,
   "metadata": {
    "colab": {
     "base_uri": "https://localhost:8080/",
     "height": 711
    },
    "id": "PbZgn1ZM8Paf",
    "outputId": "c4e59e5e-de99-44f1-d2c8-775659393b6a"
   },
   "outputs": [
    {
     "name": "stdout",
     "output_type": "stream",
     "text": [
      "   EmployeeID           Name   Department  Salary\n",
      "0         101       John Doe           HR   50000\n",
      "1         102     Jane Smith      Finance   60000\n",
      "2         103    Bob Johnson  Engineering   75000\n",
      "3         104    Alice Davis    Marketing   55000\n",
      "4         105  Charlie Brown           HR   48000\n"
     ]
    },
    {
     "data": {
      "image/png": "[encoded data removed]",
      "text/plain": [
       "<Figure size 1000x600 with 1 Axes>"
      ]
     },
     "metadata": {},
     "output_type": "display_data"
    }
   ],
   "source": [
    "#Basic Visualizations using pandas\n",
    "import pandas as pd\n",
    "import matplotlib.pyplot as plt\n",
    "data = {\n",
    "    'EmployeeID': [101, 102, 103, 104, 105, 106, 107, 108, 109, 110],\n",
    "    'Name': ['John Doe', 'Jane Smith', 'Bob Johnson', 'Alice Davis', 'Charlie Brown',\n",
    "             'David Wilson', 'Emily Clark', 'Frank White', 'Grace Lee', 'Henry Scott'],\n",
    "    'Department': ['HR', 'Finance', 'Engineering', 'Marketing', 'HR',\n",
    "                   'Finance', 'Engineering', 'Marketing', 'HR', 'Finance'],\n",
    "    'Salary': [50000, 60000, 75000, 55000, 48000, 70000, 80000, 62000, 54000, 72000]\n",
    "}\n",
    "\n",
    "df = pd.DataFrame(data)\n",
    "# Display the first few rows to verify the data\n",
    "print(df.head())\n",
    "\n",
    "# Group the data by 'Department' and calculate the total salary per department\n",
    "department_salary = df.groupby('Department')['Salary'].sum()\n",
    "\n",
    "# Plotting the Bar Chart\n",
    "plt.figure(figsize=(10, 6))  # Set figure size\n",
    "department_salary.plot(kind='bar', color='skyblue')\n",
    "\n",
    "# Adding title and labels\n",
    "plt.title('Total Salary by Department', fontsize=16)\n",
    "plt.xlabel('Department', fontsize=12)\n",
    "plt.ylabel('Total Salary', fontsize=12)\n",
    "\n",
    "# Rotating x-axis labels to avoid overlap\n",
    "plt.xticks(rotation=45)\n",
    "\n",
    "# Display the plot\n",
    "plt.tight_layout()  # Adjust layout for better spacing\n",
    "plt.show()\n"
   ]
  },
  {
   "cell_type": "markdown",
   "metadata": {
    "id": "stDZNKgx8dyQ"
   },
   "source": [
    "e)Create pivot tables and group data for analysis.\n",
    "\n",
    "Creating pivot tables and grouping data are essential techniques for summarizing and analyzing data, especially when you need to extract insights from large datasets."
   ]
  },
  {
   "cell_type": "code",
   "execution_count": 41,
   "metadata": {
    "colab": {
     "base_uri": "https://localhost:8080/",
     "height": 431
    },
    "id": "1mxwy-vz8pyd",
    "outputId": "e7dd2b0d-a865-4e8d-a6a5-59d2fd180899"
   },
   "outputs": [
    {
     "data": {
      "text/html": [
       "<div>\n",
       "<style scoped>\n",
       "    .dataframe tbody tr th:only-of-type {\n",
       "        vertical-align: middle;\n",
       "    }\n",
       "\n",
       "    .dataframe tbody tr th {\n",
       "        vertical-align: top;\n",
       "    }\n",
       "\n",
       "    .dataframe thead th {\n",
       "        text-align: right;\n",
       "    }\n",
       "</style>\n",
       "<table border=\"1\" class=\"dataframe\">\n",
       "  <thead>\n",
       "    <tr style=\"text-align: right;\">\n",
       "      <th></th>\n",
       "      <th>Employee</th>\n",
       "      <th>Department</th>\n",
       "      <th>Salary</th>\n",
       "      <th>Age</th>\n",
       "    </tr>\n",
       "  </thead>\n",
       "  <tbody>\n",
       "    <tr>\n",
       "      <th>0</th>\n",
       "      <td>Alice</td>\n",
       "      <td>HR</td>\n",
       "      <td>60000</td>\n",
       "      <td>25</td>\n",
       "    </tr>\n",
       "    <tr>\n",
       "      <th>1</th>\n",
       "      <td>Bob</td>\n",
       "      <td>Engineering</td>\n",
       "      <td>80000</td>\n",
       "      <td>30</td>\n",
       "    </tr>\n",
       "    <tr>\n",
       "      <th>2</th>\n",
       "      <td>Charlie</td>\n",
       "      <td>HR</td>\n",
       "      <td>65000</td>\n",
       "      <td>35</td>\n",
       "    </tr>\n",
       "    <tr>\n",
       "      <th>3</th>\n",
       "      <td>David</td>\n",
       "      <td>Engineering</td>\n",
       "      <td>85000</td>\n",
       "      <td>40</td>\n",
       "    </tr>\n",
       "    <tr>\n",
       "      <th>4</th>\n",
       "      <td>Eve</td>\n",
       "      <td>Sales</td>\n",
       "      <td>50000</td>\n",
       "      <td>22</td>\n",
       "    </tr>\n",
       "  </tbody>\n",
       "</table>\n",
       "</div>"
      ],
      "text/plain": [
       "  Employee   Department  Salary  Age\n",
       "0    Alice           HR   60000   25\n",
       "1      Bob  Engineering   80000   30\n",
       "2  Charlie           HR   65000   35\n",
       "3    David  Engineering   85000   40\n",
       "4      Eve        Sales   50000   22"
      ]
     },
     "metadata": {},
     "output_type": "display_data"
    },
    {
     "name": "stdout",
     "output_type": "stream",
     "text": [
      "Department  Engineering       HR    Sales\n",
      "Age                                      \n",
      "22                  NaN      NaN  50000.0\n",
      "25                  NaN  60000.0      NaN\n",
      "30              80000.0      NaN      NaN\n",
      "35                  NaN  65000.0      NaN\n",
      "40              85000.0      NaN      NaN\n"
     ]
    }
   ],
   "source": [
    "import pandas as pd\n",
    "\n",
    "# Sample DataFrame\n",
    "data = {\n",
    "    'Employee': ['Alice', 'Bob', 'Charlie', 'David', 'Eve'],\n",
    "    'Department': ['HR', 'Engineering', 'HR', 'Engineering', 'Sales'],\n",
    "    'Salary': [60000, 80000, 65000, 85000, 50000],\n",
    "    'Age': [25, 30, 35, 40, 22]\n",
    "}\n",
    "\n",
    "df = pd.DataFrame(data)\n",
    "display(df)\n",
    "\n",
    "\n",
    "#Basic Pivot table\n",
    "pivot_table = df.pivot_table(values='Salary', index='Age', columns='Department', aggfunc='mean')\n",
    "\n",
    "print(pivot_table)\n",
    "\n"
   ]
  },
  {
   "cell_type": "markdown",
   "metadata": {
    "id": "k6FmEDKz9oEH"
   },
   "source": [
    "#5)IF Statements\n",
    "\n",
    "Python supports the usual logical conditions from mathematics:\n",
    "\n",
    "Equals: a == b\n",
    "\n",
    "Not Equals: a != b\n",
    "\n",
    "Less than: a < b\n",
    "\n",
    "Less than or equal to: a <= b\n",
    "\n",
    "Greater than: a > b\n",
    "\n",
    "Greater than or equal to: a >= b\n",
    "\n",
    "These conditions can be used in several ways, most commonly in \"if statements\" and loops.\n",
    "\n",
    "An \"if statement\" is written by using the if keyword.\n",
    "\n",
    "a)Demonstrate conditional logic using if, else, and elif statements.\n"
   ]
  },
  {
   "cell_type": "code",
   "execution_count": 42,
   "metadata": {
    "id": "_KxGK01d-JTQ"
   },
   "outputs": [
    {
     "name": "stdout",
     "output_type": "stream",
     "text": [
      "The number is positive.\n"
     ]
    }
   ],
   "source": [
    "#If statment\n",
    "num = 5\n",
    "\n",
    "if num > 0:\n",
    "    print(\"The number is positive.\")\n"
   ]
  },
  {
   "cell_type": "code",
   "execution_count": 43,
   "metadata": {
    "colab": {
     "base_uri": "https://localhost:8080/"
    },
    "id": "9TVwnDJI-Tcp",
    "outputId": "3baef1de-0f27-40d0-d577-e22f60f930af"
   },
   "outputs": [
    {
     "name": "stdout",
     "output_type": "stream",
     "text": [
      "The number is negative.\n"
     ]
    }
   ],
   "source": [
    "#If-else statment\n",
    "num = -3\n",
    "\n",
    "if num > 0:\n",
    "    print(\"The number is positive.\")\n",
    "else:\n",
    "    print(\"The number is negative.\")\n",
    "\n"
   ]
  },
  {
   "cell_type": "code",
   "execution_count": 44,
   "metadata": {
    "colab": {
     "base_uri": "https://localhost:8080/"
    },
    "id": "53OdpJDE-dnK",
    "outputId": "bb31e082-39c0-41f8-c1ca-6bb37c612f77"
   },
   "outputs": [
    {
     "name": "stdout",
     "output_type": "stream",
     "text": [
      "The number is zero.\n"
     ]
    }
   ],
   "source": [
    "#elif statement\n",
    "num = 0\n",
    "\n",
    "if num > 0:\n",
    "    print(\"The number is positive.\")\n",
    "elif num < 0:\n",
    "    print(\"The number is negative.\")\n",
    "else:\n",
    "    print(\"The number is zero.\")\n"
   ]
  },
  {
   "cell_type": "markdown",
   "metadata": {
    "id": "Ganbj3p1-lln"
   },
   "source": [
    "b)Create complex conditional expressions.\n",
    "\n",
    "In Python, you can combine multiple conditions to create complex conditional expressions using logical operators like and, or, not, and parentheses to group conditions. Complex conditional expressions allow you to evaluate multiple conditions simultaneously and make more refined decisions in your program.\n"
   ]
  },
  {
   "cell_type": "code",
   "execution_count": 45,
   "metadata": {
    "colab": {
     "base_uri": "https://localhost:8080/"
    },
    "id": "gmNu0wn3-xTv",
    "outputId": "d3bc7082-ca66-4bd6-ae7c-80d68cd6762a"
   },
   "outputs": [
    {
     "name": "stdout",
     "output_type": "stream",
     "text": [
      "The number is between 10 and 20 and is even.\n"
     ]
    }
   ],
   "source": [
    "#Checking the number in-between and even\n",
    "num = 18\n",
    "\n",
    "if num >= 10 and num <= 20 and num % 2 == 0:\n",
    "    print(\"The number is between 10 and 20 and is even.\")\n",
    "else:\n",
    "    print(\"The number does not meet the conditions.\")\n"
   ]
  },
  {
   "cell_type": "code",
   "execution_count": 46,
   "metadata": {
    "colab": {
     "base_uri": "https://localhost:8080/"
    },
    "id": "P0Ke4KKW_AJg",
    "outputId": "9c5923c4-09a5-45dc-8006-0c742efb5ff3"
   },
   "outputs": [
    {
     "name": "stdout",
     "output_type": "stream",
     "text": [
      "The number is positive or greater than the threshold.\n"
     ]
    }
   ],
   "source": [
    "#Number is positive or greater than threshold\n",
    "num = 50\n",
    "threshold = 100\n",
    "\n",
    "if num > 0 or num > threshold:\n",
    "    print(\"The number is positive or greater than the threshold.\")\n",
    "else:\n",
    "    print(\"The number is neither positive nor greater than the threshold.\")\n"
   ]
  },
  {
   "cell_type": "code",
   "execution_count": 47,
   "metadata": {
    "colab": {
     "base_uri": "https://localhost:8080/"
    },
    "id": "kUWadhxu_blq",
    "outputId": "811870f3-9848-4b28-ec7a-aab0723171ea"
   },
   "outputs": [
    {
     "name": "stdout",
     "output_type": "stream",
     "text": [
      "The number is within the range or greater than the threshold.\n"
     ]
    }
   ],
   "source": [
    "#Checking the number in between the range or greater\n",
    "num = 15\n",
    "min_range = 10\n",
    "max_range = 20\n",
    "threshold = 25\n",
    "\n",
    "if (num >= min_range and num <= max_range) or num > threshold:\n",
    "    print(\"The number is within the range or greater than the threshold.\")\n",
    "else:\n",
    "    print(\"The number is outside the range and below the threshold.\")\n"
   ]
  },
  {
   "cell_type": "markdown",
   "metadata": {
    "id": "WgCdTJQy_lqb"
   },
   "source": [
    "c)Implement nested if statements.\n",
    "\n",
    "A nested if statement occurs when you place one if statement inside another. This allows you to check for multiple conditions in a structured way, where one condition depends on the result of another condition. Nested if statements are useful when you need to evaluate more complex logic that involves multiple levels of decision-making."
   ]
  },
  {
   "cell_type": "code",
   "execution_count": 48,
   "metadata": {
    "colab": {
     "base_uri": "https://localhost:8080/"
    },
    "id": "6pjLNWzE_7_n",
    "outputId": "a1a1e118-6e92-4e7c-a57c-e9b70e912998"
   },
   "outputs": [
    {
     "name": "stdout",
     "output_type": "stream",
     "text": [
      "14 is a positive and even number.\n"
     ]
    }
   ],
   "source": [
    "num = 14\n",
    "\n",
    "if num > 0:  # Check if the number is positive\n",
    "    if num % 2 == 0:  # Nested check to see if the number is even\n",
    "        print(f\"{num} is a positive and even number.\")\n",
    "    else:  # This block runs if the number is positive but odd\n",
    "        print(f\"{num} is a positive but odd number.\")\n",
    "else:\n",
    "    print(f\"{num} is not a positive number.\")\n"
   ]
  },
  {
   "cell_type": "markdown",
   "metadata": {
    "id": "iMyf9nytAFTS"
   },
   "source": [
    "#6)Loops\n",
    "\n",
    "Loops are essential constructs in programming that allow you to repeat a block of code multiple times. In Python, the two most commonly used types of loops are the for loop and the while loop. Both serve different purposes, but they can often be used interchangeably depending on the situation.\n",
    "\n",
    "a)Use for loops to iterate over sequences."
   ]
  },
  {
   "cell_type": "code",
   "execution_count": 49,
   "metadata": {
    "colab": {
     "base_uri": "https://localhost:8080/"
    },
    "id": "KSZP6YKDAp6t",
    "outputId": "d61ccae4-17c4-4326-beb3-c91cdf3242df"
   },
   "outputs": [
    {
     "name": "stdout",
     "output_type": "stream",
     "text": [
      "apple\n",
      "banana\n",
      "cherry\n"
     ]
    }
   ],
   "source": [
    "#Looping over list\n",
    "fruits = [\"apple\", \"banana\", \"cherry\"]\n",
    "\n",
    "for fruit in fruits:\n",
    "    print(fruit)\n"
   ]
  },
  {
   "cell_type": "code",
   "execution_count": 50,
   "metadata": {
    "colab": {
     "base_uri": "https://localhost:8080/"
    },
    "id": "X-pTIrxDCh2_",
    "outputId": "cce5ac84-f79c-4a1b-a477-f64502dfeeb1"
   },
   "outputs": [
    {
     "name": "stdout",
     "output_type": "stream",
     "text": [
      "(d, r)\n",
      "(d, a)\n",
      "(r, a)\n"
     ]
    }
   ],
   "source": [
    "#nested loops\n",
    "#Generate all combinations of pairs from a list of items.\n",
    "def generate_combinations(items):\n",
    "\n",
    "    for i in range(len(items)):\n",
    "        for j in range(i + 1, len(items)):\n",
    "            print(f\"({items[i]}, {items[j]})\")\n",
    "\n",
    "# Example usage\n",
    "generate_combinations(['d', 'r', 'a'])\n"
   ]
  },
  {
   "cell_type": "code",
   "execution_count": 51,
   "metadata": {
    "colab": {
     "base_uri": "https://localhost:8080/"
    },
    "id": "goj9I7ijC0QB",
    "outputId": "cea6bba0-8375-41cb-b28f-b9e7a582c5a5"
   },
   "outputs": [
    {
     "name": "stdout",
     "output_type": "stream",
     "text": [
      "John is 30 years old.\n",
      "Alice is 25 years old.\n",
      "Bob is 35 years old.\n"
     ]
    }
   ],
   "source": [
    "#Looping over multiple sequences.\n",
    "names = [\"John\", \"Alice\", \"Bob\"]\n",
    "ages = [30, 25, 35]\n",
    "\n",
    "for name, age in zip(names, ages):\n",
    "    print(f\"{name} is {age} years old.\")\n",
    "\n"
   ]
  },
  {
   "cell_type": "markdown",
   "metadata": {
    "id": "ADAbx3yqDSAF"
   },
   "source": [
    "b)Employ while loops for indefinite iteration.\n",
    "\n",
    "A while loop in Python is used for indefinite iteration—meaning that the loop continues to execute as long as a specified condition remains True. This is particularly useful when you do not know in advance how many iterations are needed but rather want the loop to continue until a certain condition is met."
   ]
  },
  {
   "cell_type": "code",
   "execution_count": 52,
   "metadata": {
    "colab": {
     "base_uri": "https://localhost:8080/"
    },
    "id": "RfC4dJrIDcU5",
    "outputId": "fd94ba7e-666a-41a6-d0a9-6fd6a90f1877"
   },
   "outputs": [
    {
     "name": "stdin",
     "output_type": "stream",
     "text": [
      "Type 'exit' to stop:  exit\n"
     ]
    },
    {
     "name": "stdout",
     "output_type": "stream",
     "text": [
      "Exiting the loop.\n"
     ]
    }
   ],
   "source": [
    "while True:  # Infinite loop\n",
    "    user_input = input(\"Type 'exit' to stop: \")\n",
    "    if user_input.lower() == 'exit':  # Exit the loop if the user types 'exit'\n",
    "        print(\"Exiting the loop.\")\n",
    "        break\n",
    "    else:\n",
    "        print(\"You typed:\", user_input)\n"
   ]
  },
  {
   "cell_type": "markdown",
   "metadata": {
    "id": "b0r39QHxD4pE"
   },
   "source": [
    "c)Implement nested loops.\n",
    "\n",
    "A nested loop is a loop inside another loop. In Python, this can involve placing a for loop or a while loop inside another for or while loop. Nested loops are particularly useful for working with multi-dimensional data structures like matrices or performing complex iterations where one loop depends on the other."
   ]
  },
  {
   "cell_type": "code",
   "execution_count": 53,
   "metadata": {
    "colab": {
     "base_uri": "https://localhost:8080/"
    },
    "id": "1Q-j6gLVEAR-",
    "outputId": "296b5f56-5dd0-4127-d059-bbc5924831a1"
   },
   "outputs": [
    {
     "name": "stdout",
     "output_type": "stream",
     "text": [
      "1 2 3 \n",
      "4 5 6 \n",
      "7 8 9 \n"
     ]
    }
   ],
   "source": [
    "matrix = [\n",
    "    [1, 2, 3],\n",
    "    [4, 5, 6],\n",
    "    [7, 8, 9]\n",
    "]\n",
    "\n",
    "for row in matrix:  # Outer loop iterates through each row\n",
    "    for element in row:  # Inner loop iterates through each element in the row\n",
    "        print(element, end=\" \")  # Print elements in the same line\n",
    "    print()  # New line after each row\n"
   ]
  },
  {
   "cell_type": "code",
   "execution_count": 54,
   "metadata": {
    "colab": {
     "base_uri": "https://localhost:8080/"
    },
    "id": "Grkc1tmPEI-1",
    "outputId": "11ce7914-6995-4759-dd27-f2094763f615"
   },
   "outputs": [
    {
     "name": "stdout",
     "output_type": "stream",
     "text": [
      "* \n",
      "* * \n",
      "* * * \n",
      "* * * * \n",
      "* * * * * \n"
     ]
    }
   ],
   "source": [
    "# Printing a triangle pattern\n",
    "for i in range(1, 6):  # Outer loop controls number of rows\n",
    "    for j in range(i):  # Inner loop prints stars based on row number\n",
    "        print(\"*\", end=\" \")\n",
    "    print()  # New line after each row\n"
   ]
  },
  {
   "cell_type": "code",
   "execution_count": 55,
   "metadata": {
    "colab": {
     "base_uri": "https://localhost:8080/"
    },
    "id": "rKUny1DwEQzO",
    "outputId": "79596432-8340-4694-9ac4-e91c02c8df9d"
   },
   "outputs": [
    {
     "name": "stdout",
     "output_type": "stream",
     "text": [
      "1 2 \n",
      "3 4 \n",
      "\n",
      "5 6 \n",
      "7 8 \n",
      "\n",
      "9 10 \n",
      "11 12 \n",
      "\n"
     ]
    }
   ],
   "source": [
    "# 3D list (list of lists of lists)\n",
    "three_d = [\n",
    "    [[1, 2], [3, 4]],\n",
    "    [[5, 6], [7, 8]],\n",
    "    [[9, 10], [11, 12]]\n",
    "]\n",
    "\n",
    "for matrix in three_d:  # Outer loop for each 2D matrix\n",
    "    for row in matrix:  # Middle loop for each row\n",
    "        for element in row:  # Inner loop for each element in the row\n",
    "            print(element, end=\" \")\n",
    "        print()  # New line after each row\n",
    "    print()  # New line after each matrix\n"
   ]
  },
  {
   "cell_type": "markdown",
   "metadata": {
    "id": "J0kIdD75ESeE"
   },
   "source": [
    "d)Utilize break and continue statements.\n",
    "\n",
    "The break and continue statements are control flow tools that allow you to alter the behavior of loops (for and while). These statements give you more control over how loops behave under specific conditions."
   ]
  },
  {
   "cell_type": "code",
   "execution_count": 56,
   "metadata": {
    "colab": {
     "base_uri": "https://localhost:8080/"
    },
    "id": "jyFtRv3IEcDG",
    "outputId": "429ffdb5-632e-4ebf-e78e-3305eefc1639"
   },
   "outputs": [
    {
     "name": "stdout",
     "output_type": "stream",
     "text": [
      "Prime number found: 11\n",
      "Found a prime greater than 10, exiting the loop.\n"
     ]
    }
   ],
   "source": [
    "numbers = [4, 6, 8, 9, 11, 13, 15, 17]\n",
    "\n",
    "for number in numbers:\n",
    "    if number < 2:  # Skip numbers less than 2 (they are not prime)\n",
    "        continue\n",
    "    for i in range(2, number):  # Check for divisibility from 2 to number-1\n",
    "        if number % i == 0:  # If the number is divisible by any number in the range, it's not prime\n",
    "            break  # Exit the inner loop\n",
    "    else:\n",
    "        # This else is associated with the for-loop, not the if-statement\n",
    "        print(f\"Prime number found: {number}\")\n",
    "        if number > 10:\n",
    "            print(\"Found a prime greater than 10, exiting the loop.\")\n",
    "            break  # Exit the outer loop when a prime greater than 10 is found\n"
   ]
  },
  {
   "cell_type": "code",
   "execution_count": 57,
   "metadata": {
    "colab": {
     "base_uri": "https://localhost:8080/"
    },
    "id": "KmZGQ07w0OLz",
    "outputId": "7db0a4d7-5c81-442c-8a66-6cc8d07f1606"
   },
   "outputs": [
    {
     "name": "stdout",
     "output_type": "stream",
     "text": [
      "Processing John...\n",
      "John is failing with grade 45. Needs improvement!\n",
      "Processing Jane...\n",
      "Excellent! Jane has achieved an outstanding grade of 92!\n",
      "Finished processing all students.\n"
     ]
    }
   ],
   "source": [
    "# Sample data: List of students with their names and grades\n",
    "students = [\n",
    "    {'name': 'John', 'grade': 45},\n",
    "    {'name': 'Jane', 'grade': 92},\n",
    "    {'name': 'Bob', 'grade': 73},\n",
    "    {'name': 'Alice', 'grade': 88},\n",
    "    {'name': 'Charlie', 'grade': 35},\n",
    "    {'name': 'David', 'grade': 98}\n",
    "]\n",
    "\n",
    "# Initialize a counter to iterate over the list of students\n",
    "index = 0\n",
    "\n",
    "# Use a while loop to iterate over the students list\n",
    "while index < len(students):\n",
    "    student = students[index]\n",
    "    print(f\"Processing {student['name']}...\")\n",
    "\n",
    "    # If the grade is below 50, it's failing, so skip to the next student\n",
    "    if student['grade'] < 50:\n",
    "        print(f\"{student['name']} is failing with grade {student['grade']}. Needs improvement!\")\n",
    "        index += 1  # Move to the next student\n",
    "        continue  # Skip the rest of the loop for this student\n",
    "\n",
    "    # If the grade is above 90, print 'Excellent' and break out of the loop\n",
    "    elif student['grade'] > 90:\n",
    "        print(f\"Excellent! {student['name']} has achieved an outstanding grade of {student['grade']}!\")\n",
    "        break  # Exit the loop completely after encountering an excellent grade\n",
    "\n",
    "    # Otherwise, print the student's grade\n",
    "    else:\n",
    "        print(f\"{student['name']} has a grade of {student['grade']}.\")\n",
    "\n",
    "    # Increment the index to process the next student\n",
    "    index += 1\n",
    "\n",
    "print(\"Finished processing all students.\")\n"
   ]
  },
  {
   "cell_type": "markdown",
   "metadata": {
    "id": "t1P_285jElk1"
   },
   "source": [
    "#7)Lists, Tuples, Sets, Dictionaries\n",
    "\n",
    "\n",
    "1. Lists in Python:\n",
    "\n",
    "A list is an ordered collection of items which can be of any type. Lists are mutable, meaning their contents can be modified after creation (i.e., elements can be added, removed, or modified).\n",
    "\n",
    "2. Tuples in Python:\n",
    "\n",
    "A tuple is an ordered collection of elements, similar to a list, but it is immutable. Once a tuple is created, its elements cannot be changed, added, or removed.\n",
    "\n",
    "\n",
    "3. Sets in Python:\n",
    "\n",
    "A set is an unordered collection of unique elements. Sets are mutable, but they do not allow duplicate elements, and their order is not guaranteed.\n",
    "\n",
    "4. Dictionaries in Python:\n",
    "\n",
    "A dictionary is an unordered collection of key-value pairs. The keys in a dictionary must be unique, while the values can be of any data type. Dictionaries are mutable.\n",
    "\n",
    "\n",
    "a)Create and manipulate lists, tuples, sets, and dictionaries."
   ]
  },
  {
   "cell_type": "code",
   "execution_count": 58,
   "metadata": {
    "colab": {
     "base_uri": "https://localhost:8080/"
    },
    "id": "sJf6USw3FJk3",
    "outputId": "7ff0c54a-e818-4169-f22f-bb10d3763239"
   },
   "outputs": [
    {
     "name": "stdout",
     "output_type": "stream",
     "text": [
      "apple\n",
      "['banana', 'cherry']\n",
      "['apple', 'orange', 'cherry']\n",
      "['apple', 'orange', 'cherry', 'grape']\n",
      "['apple', 'cherry', 'grape']\n"
     ]
    }
   ],
   "source": [
    "#Creating and Manipulating Lists\n",
    "fruits = [\"apple\", \"banana\", \"cherry\"]\n",
    "\n",
    "# Accessing elements by index\n",
    "print(fruits[0])\n",
    "\n",
    "# Slicing the list\n",
    "print(fruits[1:3])\n",
    "# Modifying an element\n",
    "fruits[1] = \"orange\"\n",
    "print(fruits)\n",
    "\n",
    "# Adding an element\n",
    "fruits.append(\"grape\")\n",
    "print(fruits)\n",
    "\n",
    "# Removing an element\n",
    "fruits.remove(\"orange\")\n",
    "print(fruits)\n"
   ]
  },
  {
   "cell_type": "code",
   "execution_count": null,
   "metadata": {
    "colab": {
     "base_uri": "https://localhost:8080/"
    },
    "id": "WXSzGKvOFVZU",
    "outputId": "50f5ead6-1e3b-4a22-e912-10e34b19234d"
   },
   "outputs": [
    {
     "name": "stdout",
     "output_type": "stream",
     "text": [
      "red\n",
      "('green', 'blue')\n"
     ]
    }
   ],
   "source": [
    "#Creating and Manipulating A Tuple\n",
    "# Creating a tuple\n",
    "colors = (\"red\", \"green\", \"blue\")\n",
    "\n",
    "# Accessing elements by index\n",
    "print(colors[0])\n",
    "\n",
    "# Slicing the tuple\n",
    "print(colors[1:3])\n"
   ]
  },
  {
   "cell_type": "code",
   "execution_count": 59,
   "metadata": {
    "colab": {
     "base_uri": "https://localhost:8080/"
    },
    "id": "dAHfA-L5Fjg6",
    "outputId": "7e1ee68c-b9a9-4f9b-8372-4d2ba0a03aa0"
   },
   "outputs": [
    {
     "name": "stdout",
     "output_type": "stream",
     "text": [
      "{1, 2, 3, 4, 5, 6}\n",
      "{1, 2, 4, 5, 6}\n",
      "{1, 2, 3}\n",
      "False\n"
     ]
    }
   ],
   "source": [
    "#Creating sets in python\n",
    "numbers = {1, 2, 3, 4, 5}\n",
    "\n",
    "# Adding an element\n",
    "numbers.add(6)\n",
    "print(numbers)\n",
    "\n",
    "# Removing an element\n",
    "numbers.remove(3)\n",
    "print(numbers)\n",
    "\n",
    "# Sets automatically remove duplicates\n",
    "numbers = {1, 2, 3, 3, 2, 1}\n",
    "print(numbers)\n",
    "\n",
    "# Checking membership\n",
    "print(4 in numbers)\n"
   ]
  },
  {
   "cell_type": "code",
   "execution_count": 60,
   "metadata": {
    "colab": {
     "base_uri": "https://localhost:8080/"
    },
    "id": "0NFFoylQFuh7",
    "outputId": "053d9bea-d765-499c-d977-a8f055e7b669"
   },
   "outputs": [
    {
     "name": "stdout",
     "output_type": "stream",
     "text": [
      "John\n",
      "{'name': 'John', 'age': 31, 'city': 'New York'}\n",
      "{'name': 'John', 'age': 31, 'city': 'New York', 'job': 'Engineer'}\n",
      "{'name': 'John', 'age': 31, 'job': 'Engineer'}\n",
      "True\n",
      "False\n"
     ]
    }
   ],
   "source": [
    "# Creating a dictionary\n",
    "person = {\"name\": \"John\", \"age\": 30, \"city\": \"New York\"}\n",
    "\n",
    "# Accessing values by key\n",
    "print(person[\"name\"])\n",
    "\n",
    "# Modifying a value\n",
    "person[\"age\"] = 31\n",
    "print(person)\n",
    "\n",
    "# Adding a new key-value pair\n",
    "person[\"job\"] = \"Engineer\"\n",
    "print(person)\n",
    "\n",
    "# Removing a key-value pair\n",
    "del person[\"city\"]\n",
    "print(person)\n",
    "\n",
    "# Checking if a key exists\n",
    "print(\"age\" in person)\n",
    "print(\"city\" in person)\n"
   ]
  },
  {
   "cell_type": "markdown",
   "metadata": {
    "id": "fvpgTc6LF-XR"
   },
   "source": [
    "b)Understand the differences between these data structures.\n",
    "\n",
    "Each of the four data structures in Python—lists, tuples, sets, and dictionaries—has distinct characteristics that make them suitable for different use cases.\n",
    "\n",
    "Differences\n",
    "\n",
    "Lists:\n",
    "\n",
    "Ordered collection.\n",
    "Items are stored in a specific order, and that order is maintained.\n",
    "Elements can be accessed using their index (e.g., list[0]).\n",
    "The order of elements in a list is guaranteed (starting from Python 3.7+).\n",
    "\n",
    "\n",
    "Tuples:\n",
    "\n",
    "Ordered collection.\n",
    "Like lists, tuples maintain the order of elements.\n",
    "Can be accessed via indexing (e.g., tuple[0]).\n",
    "\n",
    "\n",
    "Sets:\n",
    "\n",
    "Unordered collection.\n",
    "The elements do not have a fixed position, so the order of elements is not preserved.\n",
    "Cannot access elements by index. Elements can only be accessed through iteration.\n",
    "\n",
    "\n",
    "Dictionaries:\n",
    "\n",
    "Unordered (until Python 3.7+ where insertion order is preserved).\n",
    "Data is stored as key-value pairs. Keys are unique, and values are accessed using the key (e.g., dict[\"key\"]).\n",
    "Insertion order is maintained in Python 3.7+, meaning the items will be returned in the same order they were added.\n",
    "\n",
    "\n",
    "Use Cases\n",
    "\n",
    "Lists:\n",
    "\n",
    "Best used when you need an ordered collection of items that might change.\n",
    "Ideal for use cases where the order of elements is important, and modifications like adding/removing elements are needed.\n",
    "\n",
    "Example: Storing a sequence of tasks in a to-do list or a series of steps in a process.\n",
    "\n",
    "Tuples:\n",
    "\n",
    "Best used when you need an ordered collection of items that should not be modified.\n",
    "Ideal for use cases where the integrity of the data should be maintained, and immutability is required (e.g., coordinates, function return values).\n",
    "\n",
    "Example: Representing fixed data like geographic coordinates (latitude, longitude) or RGB values.\n",
    "\n",
    "Sets:\n",
    "\n",
    "Best used when you need a collection of unique items and order doesn't matter.\n",
    "Ideal for removing duplicates, checking membership, or performing set operations like union, intersection, and difference.\n",
    "\n",
    "Example: Storing unique items, such as a list of distinct tags or items in a collection.\n",
    "\n",
    "Dictionaries:\n",
    "\n",
    "Best used when you need a key-value mapping, with fast lookups by key.\n",
    "Ideal for associating data that can be accessed quickly via a unique identifier (key).\n",
    "\n",
    "Example: Storing user information by user ID, or mapping product IDs to product details."
   ]
  },
  {
   "cell_type": "markdown",
   "metadata": {
    "id": "MbBeEbpXGtSA"
   },
   "source": [
    "c)Perform operations like indexing, slicing, adding, removing elements.\n",
    "\n"
   ]
  },
  {
   "cell_type": "code",
   "execution_count": 61,
   "metadata": {
    "colab": {
     "base_uri": "https://localhost:8080/"
    },
    "id": "4NUu9EXMHHRJ",
    "outputId": "13b313be-2ef9-40fb-f516-dc1b140d8743"
   },
   "outputs": [
    {
     "name": "stdout",
     "output_type": "stream",
     "text": [
      "apple\n",
      "date\n",
      "['banana', 'cherry']\n",
      "['apple', 'banana']\n",
      "['cherry', 'date']\n",
      "['apple', 'banana', 'cherry', 'date', 'elderberry']\n",
      "['apple', 'banana', 'blueberry', 'cherry', 'date', 'elderberry']\n",
      "['apple', 'banana', 'blueberry', 'cherry', 'date', 'elderberry', 'fig', 'grape']\n",
      "['apple', 'blueberry', 'cherry', 'date', 'elderberry', 'fig', 'grape']\n",
      "['apple', 'blueberry', 'cherry', 'elderberry', 'fig', 'grape']\n",
      "['blueberry', 'cherry', 'elderberry', 'fig', 'grape']\n",
      "30\n",
      "40\n",
      "(20, 30)\n",
      "(10, 20)\n",
      "(30, 40)\n",
      "(10, 20, 30, 40, 50, 60)\n",
      "{1, 2, 3, 4, 5}\n",
      "{1, 2, 3, 4, 5, 6, 7, 8}\n",
      "{1, 2, 3, 5, 6, 7, 8}\n",
      "1\n",
      "{2, 3, 5, 6, 7, 8}\n",
      "John\n",
      "30\n",
      "{'name': 'John', 'age': 30, 'city': 'New York', 'job': 'Engineer'}\n",
      "{'name': 'John', 'age': 31, 'city': 'New York', 'job': 'Engineer'}\n",
      "Engineer\n",
      "{'name': 'John', 'age': 31, 'city': 'New York'}\n",
      "{'name': 'John', 'age': 31}\n",
      "('age', 31)\n",
      "{'name': 'John'}\n"
     ]
    }
   ],
   "source": [
    "#indexing with Lists\n",
    "fruits = [\"apple\", \"banana\", \"cherry\", \"date\"]\n",
    "print(fruits[0])\n",
    "print(fruits[-1])\n",
    "\n",
    "\n",
    "#Slicing with lists\n",
    "\n",
    "print(fruits[1:3])\n",
    "print(fruits[:2])\n",
    "print(fruits[2:])\n",
    "\n",
    "#Adding elements to the list\n",
    "fruits.append(\"elderberry\")\n",
    "print(fruits)\n",
    "\n",
    "\n",
    "fruits.insert(2, \"blueberry\")\n",
    "print(fruits)\n",
    "\n",
    "\n",
    "fruits.extend([\"fig\", \"grape\"])\n",
    "print(fruits)\n",
    "\n",
    "#Removing elements from the list\n",
    "fruits.remove(\"banana\")\n",
    "print(fruits)\n",
    "\n",
    "\n",
    "fruits.pop(3)\n",
    "print(fruits)\n",
    "\n",
    "\n",
    "del fruits[0]\n",
    "print(fruits)\n",
    "\n",
    "\n",
    "\n",
    "# indexing, slicing, adding, removing elements with Tuples\n",
    "\n",
    "coordinates = (10, 20, 30, 40)\n",
    "print(coordinates[2])\n",
    "print(coordinates[-1])\n",
    "\n",
    "# Slicing a tuple\n",
    "print(coordinates[1:3])\n",
    "print(coordinates[:2])\n",
    "print(coordinates[2:])\n",
    "\n",
    "# Creating a new tuple by concatenating\n",
    "new_coordinates = coordinates + (50, 60)\n",
    "print(new_coordinates)\n",
    "\n",
    "\n",
    "\n",
    "# indexing, removing elements with Sets\n",
    "\n",
    "my_set = {1, 2, 3, 4}\n",
    "\n",
    "# Adding a single element\n",
    "my_set.add(5)\n",
    "print(my_set)\n",
    "\n",
    "# Adding multiple elements (using another iterable)\n",
    "my_set.update([6, 7, 8])\n",
    "print(my_set)\n",
    "\n",
    "\n",
    "# Removing a specific element (raises KeyError if element is not present)\n",
    "my_set.remove(4)\n",
    "print(my_set)\n",
    "\n",
    "# Removing an element without raising an error (if element is not found)\n",
    "my_set.discard(10)\n",
    "\n",
    "# Removing and returning an arbitrary element\n",
    "removed_element = my_set.pop()\n",
    "print(removed_element)\n",
    "print(my_set)\n",
    "\n",
    "#sets do not support Indexing and Slicing because they are unordered.\n",
    "\n",
    "#Adding , Indexing, Slicing and Removing elements with Dictionaries.\n",
    "\n",
    "person = {\"name\": \"John\", \"age\": 30, \"city\": \"New York\"}\n",
    "print(person[\"name\"])\n",
    "print(person[\"age\"])\n",
    "\n",
    "# Adding a new key-value pair\n",
    "person[\"job\"] = \"Engineer\"\n",
    "print(person)\n",
    "\n",
    "# Modifying an existing value\n",
    "person[\"age\"] = 31\n",
    "print(person)\n",
    "\n",
    "# Using pop() to remove a key-value pair and return the value\n",
    "job = person.pop(\"job\")\n",
    "print(job)\n",
    "print(person)\n",
    "\n",
    "# Using del to remove a key-value pair\n",
    "del person[\"city\"]\n",
    "print(person)\n",
    "\n",
    "# Using popitem() to remove and return the last key-value pair\n",
    "last_item = person.popitem()\n",
    "print(last_item)\n",
    "print(person)\n"
   ]
  },
  {
   "cell_type": "markdown",
   "metadata": {
    "id": "4NaQwYhXJQKY"
   },
   "source": [
    "d)Explore built-in methods for each data structure."
   ]
  },
  {
   "cell_type": "markdown",
   "metadata": {
    "id": "IqcLogXWJyPh"
   },
   "source": [
    "1)Lists built-in methods."
   ]
  },
  {
   "cell_type": "code",
   "execution_count": 62,
   "metadata": {
    "colab": {
     "base_uri": "https://localhost:8080/"
    },
    "id": "6_vX1S7VJ1oX",
    "outputId": "161c8cb2-6145-4fbc-8815-2c8eaad0bc0a"
   },
   "outputs": [
    {
     "name": "stdout",
     "output_type": "stream",
     "text": [
      "Number of apples: 3\n",
      "Index of banana: 1\n",
      "Sorted grades: [78, 85, 88, 92, 95]\n",
      "Reversed shopping list: ['eggs', 'bread', 'milk', 'apples']\n",
      "Copy of expenses: [1200.5, 300.75, 500.0, 150.25]\n"
     ]
    }
   ],
   "source": [
    "# Count occurrences\n",
    "fruit_basket = ['apple', 'banana', 'apple', 'orange', 'apple']\n",
    "apple_count = fruit_basket.count('apple')\n",
    "print(f\"Number of apples: {apple_count}\")\n",
    "\n",
    "# Find index of an element\n",
    "banana_index = fruit_basket.index('banana')\n",
    "print(f\"Index of banana: {banana_index}\")\n",
    "\n",
    "# Sort a list\n",
    "grades = [85, 92, 78, 95, 88]\n",
    "grades.sort()\n",
    "print(f\"Sorted grades: {grades}\")\n",
    "\n",
    "# Reverse a list\n",
    "groceries = ['apples', 'milk', 'bread', 'eggs']\n",
    "groceries.reverse()\n",
    "print(f\"Reversed shopping list: {groceries}\")\n",
    "\n",
    "# Create a copy of a list\n",
    "expenses = [1200.50, 300.75, 500.00, 150.25]\n",
    "expenses_copy = expenses.copy()\n",
    "print(f\"Copy of expenses: {expenses_copy}\")"
   ]
  },
  {
   "cell_type": "markdown",
   "metadata": {
    "id": "3_t98b9qKUnh"
   },
   "source": [
    "2)Tuple in-built methods.\n"
   ]
  },
  {
   "cell_type": "code",
   "execution_count": 63,
   "metadata": {
    "colab": {
     "base_uri": "https://localhost:8080/"
    },
    "id": "-kapn0sWKnNp",
    "outputId": "9a4d7558-69aa-4ad7-b743-4edf37bc1cf4"
   },
   "outputs": [
    {
     "name": "stdout",
     "output_type": "stream",
     "text": [
      "The fruit 'apple' appears 3 times.\n",
      "The first occurrence of 'apple' is at index 0.\n"
     ]
    }
   ],
   "source": [
    "# Example Tuple\n",
    "fruits = (\"apple\", \"banana\", \"cherry\", \"apple\", \"apple\", \"banana\")\n",
    "\n",
    "# Count occurrences of 'apple'\n",
    "apple_count = fruits.count(\"apple\")\n",
    "print(f\"The fruit 'apple' appears {apple_count} times.\")\n",
    "\n",
    "#Index with tuple\n",
    "apple_index = fruits.index(\"apple\")\n",
    "print(f\"The first occurrence of 'apple' is at index {apple_index}.\")\n"
   ]
  },
  {
   "cell_type": "markdown",
   "metadata": {
    "id": "XaukSm79KzXt"
   },
   "source": [
    "3)Sets built-in methods.\n"
   ]
  },
  {
   "cell_type": "code",
   "execution_count": 64,
   "metadata": {
    "colab": {
     "base_uri": "https://localhost:8080/"
    },
    "id": "YHmGD3X_K-Sq",
    "outputId": "f3f2fa87-9023-456f-a6cc-1a11534b41ac"
   },
   "outputs": [
    {
     "name": "stdout",
     "output_type": "stream",
     "text": [
      "{'date', 'cherry', 'banana', 'apple'}\n",
      "{'date', 'banana', 'elderberry', 'apple', 'cherry'}\n",
      "{'date', 'elderberry', 'apple', 'cherry'}\n",
      "{'date', 'elderberry', 'apple', 'cherry'}\n",
      "Removed element: date\n",
      "Remaining set: {'elderberry', 'apple', 'cherry'}\n",
      "set()\n",
      "{1, 2, 3, 4, 5}\n",
      "{3}\n",
      "{1, 2}\n",
      "{1, 2, 4, 5}\n",
      "False\n",
      "True\n",
      "False\n"
     ]
    }
   ],
   "source": [
    "# Example Set\n",
    "fruits = {\"apple\", \"banana\", \"cherry\"}\n",
    "\n",
    "# Adding an element\n",
    "fruits.add(\"date\")\n",
    "print(fruits)  # Output: {'apple', 'banana', 'cherry', 'date'}\n",
    "\n",
    "# Adding multiple elements using a list\n",
    "fruits.update([\"cherry\", \"date\", \"elderberry\"])\n",
    "print(fruits)\n",
    "\n",
    "# Removing an element\n",
    "fruits.remove(\"banana\")\n",
    "print(fruits)\n",
    "\n",
    "# Trying to discard an element that doesn't exist will not raise an error\n",
    "fruits.discard(\"pear\")\n",
    "print(fruits)\n",
    "\n",
    "# Popping an arbitrary element\n",
    "popped_element = fruits.pop()\n",
    "print(f\"Removed element: {popped_element}\")\n",
    "print(f\"Remaining set: {fruits}\")\n",
    "\n",
    "# Clearing all elements from the set\n",
    "fruits.clear()\n",
    "print(fruits)\n",
    "\n",
    "# Example Sets\n",
    "set1 = {1, 2, 3}\n",
    "set2 = {3, 4, 5}\n",
    "\n",
    "# Union of two sets\n",
    "union_set = set1.union(set2)\n",
    "print(union_set)\n",
    "\n",
    "\n",
    "# Intersection of two sets\n",
    "intersection_set = set1.intersection(set2)\n",
    "print(intersection_set)\n",
    "\n",
    "\n",
    "# Difference of two sets (elements in set1 but not in set2)\n",
    "difference_set = set1.difference(set2)\n",
    "print(difference_set)\n",
    "\n",
    "# Symmetric difference (elements in either set1 or set2, but not both)\n",
    "symmetric_diff_set = set1.symmetric_difference(set2)\n",
    "print(symmetric_diff_set)\n",
    "\n",
    "\n",
    "# Check if set1 is a subset of set2\n",
    "is_subset = set1.issubset(set2)\n",
    "print(is_subset)\n",
    "\n",
    "# Example Sets\n",
    "set1 = {1, 2, 3, 4}\n",
    "set2 = {1, 2}\n",
    "\n",
    "# Check if set1 is a superset of set2\n",
    "is_superset = set1.issuperset(set2)\n",
    "print(is_superset)\n",
    "\n",
    "\n",
    "# Check if set1 and set2 are disjoint\n",
    "are_disjoint = set1.isdisjoint(set2)\n",
    "print(are_disjoint)\n",
    "\n",
    "\n",
    "\n",
    "\n",
    "\n",
    "\n"
   ]
  },
  {
   "cell_type": "markdown",
   "metadata": {
    "id": "p6GPEZcPAO39"
   },
   "source": [
    "4) Dictionary built-in methods\n"
   ]
  },
  {
   "cell_type": "code",
   "execution_count": 65,
   "metadata": {
    "colab": {
     "base_uri": "https://localhost:8080/"
    },
    "id": "BF09sEbjAW8g",
    "outputId": "8c2c384b-70d3-4389-e5b3-e51f8b7f24c4"
   },
   "outputs": [
    {
     "name": "stdout",
     "output_type": "stream",
     "text": [
      "Alice\n",
      "Not Specified\n",
      "dict_keys(['name', 'age', 'city'])\n",
      "dict_values(['Alice', 30, 'New York'])\n",
      "dict_values(['Alice', 30, 'New York'])\n",
      "dict_items([('name', 'Alice'), ('age', 30), ('city', 'New York')])\n",
      "Alice\n",
      "{'age': 30, 'city': 'New York'}\n",
      "{'name': 'Alice', 'age': 30, 'city': 'New York', 'country': 'USA'}\n",
      "New York\n",
      "{'name': 'Alice', 'age': 30}\n",
      "30\n",
      "{'name': 'Alice', 'age': 30, 'city': 'New York'}\n",
      "{'name': 'Alice', 'age': 30, 'city': 'New York'}\n",
      "{'name': 'Alice', 'age': 30, 'city': 'Los Angeles'}\n",
      "{'name': 'Alice', 'age': 30, 'city': 'New York'}\n",
      "{'name': 'Unknown', 'age': 'Unknown', 'city': 'Unknown'}\n",
      "{'name': 'Alice', 'city': 'New York'}\n"
     ]
    }
   ],
   "source": [
    "# Example Dictionary\n",
    "person = {\"name\": \"Alice\", \"age\": 30, \"city\": \"New York\"}\n",
    "\n",
    "# Get the value for 'name'\n",
    "name = person.get(\"name\")\n",
    "print(name)\n",
    "\n",
    "# Get the value for a non-existing key 'gender' with a default value\n",
    "gender = person.get(\"gender\", \"Not Specified\")\n",
    "print(gender)\n",
    "\n",
    "\n",
    "# Get all the keys\n",
    "keys = person.keys()\n",
    "print(keys)\n",
    "\n",
    "\n",
    "# Get all the values\n",
    "values = person.values()\n",
    "print(values)\n",
    "\n",
    "\n",
    "# Get all the values\n",
    "values = person.values()\n",
    "print(values)\n",
    "\n",
    "\n",
    "# Get all key-value pairs\n",
    "items = person.items()\n",
    "print(items)\n",
    "\n",
    "\n",
    "\n",
    "# Pop an item\n",
    "name = person.pop(\"name\")\n",
    "print(name)\n",
    "print(person)\n",
    "\n",
    "\n",
    "# Example Dictionaries\n",
    "person1 = {\"name\": \"Alice\", \"age\": 30}\n",
    "address = {\"city\": \"New York\", \"country\": \"USA\"}\n",
    "\n",
    "# Update 'person' dictionary with 'address'\n",
    "person1.update(address)\n",
    "print(person1)\n",
    "\n",
    "# Example Dictionary\n",
    "person2 = {\"name\": \"Alice\", \"age\": 30}\n",
    "\n",
    "# Check if 'city' exists, if not set it to \"Unknown\"\n",
    "city = person.setdefault(\"city\", \"Unknown\")\n",
    "print(city)\n",
    "print(person2)\n",
    "\n",
    "# If the key already exists, no change is made\n",
    "age = person.setdefault(\"age\", 25)\n",
    "print(age)\n",
    "\n",
    "\n",
    "# Example Dictionary\n",
    "person3 = {\"name\": \"Alice\", \"age\": 30, \"city\": \"New York\"}\n",
    "\n",
    "# Clear all items\n",
    "person.clear()\n",
    "print(person3)\n",
    "\n",
    "# Example Dictionary\n",
    "person = {\"name\": \"Alice\", \"age\": 30, \"city\": \"New York\"}\n",
    "\n",
    "# Make a copy of the dictionary\n",
    "person_copy = person.copy()\n",
    "print(person_copy)\n",
    "\n",
    "# Modify the copy\n",
    "person_copy[\"city\"] = \"Los Angeles\"\n",
    "print(person_copy)\n",
    "print(person)\n",
    "\n",
    "# Create a dictionary with keys and default value\n",
    "keys = [\"name\", \"age\", \"city\"]\n",
    "default_value = \"Unknown\"\n",
    "person = dict.fromkeys(keys, default_value)\n",
    "print(person)\n",
    "\n",
    "# Example Dictionary\n",
    "person = {\"name\": \"Alice\", \"age\": 30, \"city\": \"New York\"}\n",
    "\n",
    "# Delete a key-value pair\n",
    "del person[\"age\"]\n",
    "print(person)\n"
   ]
  },
  {
   "cell_type": "markdown",
   "metadata": {
    "id": "G7RlchHbCJ_n"
   },
   "source": [
    "#8)Operators\n",
    "\n",
    "Operators are used to perform operations on variables and values.\n",
    "\n",
    "Python divides the operators in the following groups:\n",
    "\n",
    "1)Arithmetic operators\n",
    "\n",
    "2)Assignment operators\n",
    "\n",
    "3)Comparison operators\n",
    "\n",
    "4)Logical operators\n",
    "\n",
    "5)Identity operators\n",
    "\n",
    "6)Membership operators\n",
    "\n",
    "7)Bitwise operators"
   ]
  },
  {
   "cell_type": "code",
   "execution_count": 66,
   "metadata": {
    "colab": {
     "base_uri": "https://localhost:8080/"
    },
    "id": "W1f8zn48C6z5",
    "outputId": "00003216-84ed-405b-ad89-c8f7f6f00d8a"
   },
   "outputs": [
    {
     "name": "stdout",
     "output_type": "stream",
     "text": [
      "Addition: 10 + 5 = 15\n",
      "Subtraction: 10 - 5 = 5\n",
      "Multiplication: 10 * 5 = 50\n",
      "Division: 10 / 5 = 2.0\n",
      "Floor Division: 10 // 5 = 2\n",
      "Modulus: 10 % 5 = 0\n",
      "Exponentiation: 10 ** 5 = 100000\n"
     ]
    }
   ],
   "source": [
    "#Arithmetic operators\n",
    "a = 10\n",
    "b = 5\n",
    "\n",
    "# Addition\n",
    "sum_result = a + b\n",
    "print(f\"Addition: {a} + {b} = {sum_result}\")\n",
    "\n",
    "# Subtraction\n",
    "sub_result = a - b\n",
    "print(f\"Subtraction: {a} - {b} = {sub_result}\")\n",
    "\n",
    "# Multiplication\n",
    "mul_result = a * b\n",
    "print(f\"Multiplication: {a} * {b} = {mul_result}\")\n",
    "\n",
    "# Division (float)\n",
    "div_result = a / b\n",
    "print(f\"Division: {a} / {b} = {div_result}\")\n",
    "\n",
    "# Floor Division\n",
    "floor_div_result = a // b\n",
    "print(f\"Floor Division: {a} // {b} = {floor_div_result}\")\n",
    "\n",
    "# Modulus\n",
    "mod_result = a % b\n",
    "print(f\"Modulus: {a} % {b} = {mod_result}\")\n",
    "\n",
    "# Exponentiation\n",
    "exp_result = a ** b\n",
    "print(f\"Exponentiation: {a} ** {b} = {exp_result}\")\n"
   ]
  },
  {
   "cell_type": "code",
   "execution_count": 67,
   "metadata": {
    "colab": {
     "base_uri": "https://localhost:8080/"
    },
    "id": "QTDxQRqYDHu5",
    "outputId": "470066dc-5967-4bac-81fb-a92be1b3de19"
   },
   "outputs": [
    {
     "name": "stdout",
     "output_type": "stream",
     "text": [
      "Is 10 == 5? False\n",
      "Is 10 != 5? True\n",
      "Is 10 > 5? True\n",
      "Is 10 < 5? False\n",
      "Is 10 >= 5? True\n",
      "Is 10 <= 5? False\n"
     ]
    }
   ],
   "source": [
    "#Comparision Operators\n",
    "\n",
    "a = 10\n",
    "b = 5\n",
    "\n",
    "# Equal to\n",
    "print(f\"Is {a} == {b}? {a == b}\")\n",
    "\n",
    "# Not equal to\n",
    "print(f\"Is {a} != {b}? {a != b}\")\n",
    "\n",
    "# Greater than\n",
    "print(f\"Is {a} > {b}? {a > b}\")\n",
    "\n",
    "# Less than\n",
    "print(f\"Is {a} < {b}? {a < b}\")\n",
    "\n",
    "# Greater than or equal to\n",
    "print(f\"Is {a} >= {b}? {a >= b}\")\n",
    "\n",
    "# Less than or equal to\n",
    "print(f\"Is {a} <= {b}? {a <= b}\")\n"
   ]
  },
  {
   "cell_type": "code",
   "execution_count": 68,
   "metadata": {
    "colab": {
     "base_uri": "https://localhost:8080/"
    },
    "id": "RM269ov4DUW4",
    "outputId": "bfc2ea0b-3aca-4412-a87a-99fcf526097d"
   },
   "outputs": [
    {
     "name": "stdout",
     "output_type": "stream",
     "text": [
      "Is 10 > 5 and 5 > 3? True\n",
      "Is 10 > 5 or 5 > 3? True\n",
      "Is it not true that 10 < 5? True\n"
     ]
    }
   ],
   "source": [
    "#Logical Operators\n",
    "\n",
    "a = 10\n",
    "b = 5\n",
    "c = 3\n",
    "\n",
    "# 'and' operator (both conditions must be true)\n",
    "print(f\"Is {a} > {b} and {b} > {c}? {(a > b) and (b > c)}\")\n",
    "\n",
    "# 'or' operator (at least one condition must be true)\n",
    "print(f\"Is {a} > {b} or {b} > {c}? {(a > b) or (b > c)}\")\n",
    "\n",
    "# 'not' operator (negates the condition)\n",
    "print(f\"Is it not true that {a} < {b}? {not (a < b)}\")\n"
   ]
  },
  {
   "cell_type": "code",
   "execution_count": 69,
   "metadata": {
    "colab": {
     "base_uri": "https://localhost:8080/"
    },
    "id": "6xkPnqOkDadG",
    "outputId": "92426a41-e3af-44f2-8508-5db3cb39c91b"
   },
   "outputs": [
    {
     "name": "stdout",
     "output_type": "stream",
     "text": [
      "a = b: 5\n",
      "a += 2: 7\n",
      "a -= 3: 4\n",
      "a *= 2: 8\n",
      "a /= 3: 2.6666666666666665\n",
      "a //= 2: 1.0\n",
      "a %= 3: 1.0\n",
      "a **= 2: 1.0\n",
      "Result of combined operators: True\n",
      "Updated a: 16.0\n"
     ]
    }
   ],
   "source": [
    "#Assigment Operators\n",
    "\n",
    "a = 10\n",
    "b = 5\n",
    "c = 3\n",
    "\n",
    "# Assignment\n",
    "a = b\n",
    "print(f\"a = b: {a}\")\n",
    "\n",
    "# Add and assign\n",
    "a += 2\n",
    "print(f\"a += 2: {a}\")\n",
    "\n",
    "# Subtract and assign\n",
    "a -= 3\n",
    "print(f\"a -= 3: {a}\")\n",
    "\n",
    "# Multiply and assign\n",
    "a *= 2\n",
    "print(f\"a *= 2: {a}\")\n",
    "\n",
    "# Divide and assign (float division)\n",
    "a /= 3\n",
    "print(f\"a /= 3: {a}\")\n",
    "\n",
    "# Floor divide and assign\n",
    "a //= 2\n",
    "print(f\"a //= 2: {a}\")\n",
    "\n",
    "# Modulus and assign\n",
    "a %= 3\n",
    "print(f\"a %= 3: {a}\")\n",
    "\n",
    "# Exponentiation and assign\n",
    "a **= 2\n",
    "print(f\"a **= 2: {a}\")\n",
    "\n",
    "\n",
    "\n",
    "# Arithmetic, comparison, and logical operators combined\n",
    "result = (a + b > c) and (b * c == 15)\n",
    "print(f\"Result of combined operators: {result}\")  # Output: True\n",
    "\n",
    "# Assignment with arithmetic operation\n",
    "a += b * c  # a = a + (b * c)\n",
    "print(f\"Updated a: {a}\")  # Output: 25\n",
    "\n"
   ]
  },
  {
   "cell_type": "markdown",
   "metadata": {
    "id": "yas3CarZDzA2"
   },
   "source": [
    "b)Understand operator precedence.\n",
    "\n",
    "\n",
    "Operator precedence in Python defines the order in which operators are evaluated in an expression. When multiple operators are involved in an expression, Python uses precedence rules to determine the order in which operations are performed. Operators with higher precedence are evaluated first."
   ]
  },
  {
   "cell_type": "code",
   "execution_count": 70,
   "metadata": {
    "colab": {
     "base_uri": "https://localhost:8080/"
    },
    "id": "C1vDgOGtEUHK",
    "outputId": "d5dc1722-292a-4bcc-b324-98ffbb7ab806"
   },
   "outputs": [
    {
     "name": "stdout",
     "output_type": "stream",
     "text": [
      "3\n",
      "1\n"
     ]
    }
   ],
   "source": [
    "x = 3 + 2 * 5 ** 2 // 3 % 4\n",
    "print(x)\n",
    "\n",
    "x = (3 + 2) * 5 ** 2 // 3 % 4\n",
    "print(x)\n"
   ]
  },
  {
   "cell_type": "markdown",
   "metadata": {
    "id": "JNFPGqgQEl0r"
   },
   "source": [
    "c)Apply operators in expressions and calculations.\n"
   ]
  },
  {
   "cell_type": "code",
   "execution_count": 71,
   "metadata": {
    "colab": {
     "base_uri": "https://localhost:8080/"
    },
    "id": "wOx6ORfqFEQi",
    "outputId": "03674e53-98de-4b98-e1fc-1e9d994a5882"
   },
   "outputs": [
    {
     "name": "stdout",
     "output_type": "stream",
     "text": [
      "Result of combined operators: 13\n",
      "Condition result: True\n"
     ]
    }
   ],
   "source": [
    "a = 10\n",
    "b = 5\n",
    "c = 3\n",
    "\n",
    "# Combine operators in a single expression\n",
    "result = a + b * c ** 2 // 3 % 4\n",
    "print(f\"Result of combined operators: {result}\")\n",
    "\n",
    "# Another example with comparison and logical operators\n",
    "condition = (a > b) and (b == c) or (a == 10)\n",
    "print(f\"Condition result: {condition}\")\n"
   ]
  },
  {
   "cell_type": "markdown",
   "metadata": {
    "id": "76mVGC3MFRrV"
   },
   "source": [
    "#9)Reading CSV files\n",
    "\n",
    "a)Read CSV files into Pandas DataFrames."
   ]
  },
  {
   "cell_type": "code",
   "execution_count": 72,
   "metadata": {
    "colab": {
     "base_uri": "https://localhost:8080/"
    },
    "id": "R4iplZNUFaDv",
    "outputId": "b247804d-9842-4ab6-efc7-5b4c1101f237"
   },
   "outputs": [
    {
     "name": "stdout",
     "output_type": "stream",
     "text": [
      "   Name       \"Sex\"   \"Age\"   \"Height (in)\"   \"Weight (lbs)\"\n",
      "0  Alex         \"M\"      41              74              170\n",
      "1  Bert         \"M\"      42              68              166\n",
      "2  Carl         \"M\"      32              70              155\n",
      "3  Dave         \"M\"      39              72              167\n",
      "4  Elly         \"F\"      30              66              124\n"
     ]
    }
   ],
   "source": [
    "import pandas as pd\n",
    "\n",
    "# Read the CSV file into a DataFrame\n",
    "df = pd.read_csv('https://people.sc.fsu.edu/~jburkardt/data/csv/biostats.csv')\n",
    "\n",
    "# Display the first few rows of the DataFrame\n",
    "print(df.head())  # This shows the first 5 rows by default\n"
   ]
  },
  {
   "cell_type": "markdown",
   "metadata": {
    "id": "dqlic_oqF5S2"
   },
   "source": [
    "b)Explore different CSV reading options and parameters."
   ]
  },
  {
   "cell_type": "code",
   "execution_count": 73,
   "metadata": {
    "colab": {
     "base_uri": "https://localhost:8080/"
    },
    "id": "a3f2rxlAGtgV",
    "outputId": "5cd9187b-3de1-4184-dc76-d360cf86b86a"
   },
   "outputs": [
    {
     "name": "stdout",
     "output_type": "stream",
     "text": [
      "   Name       \"Sex\"   \"Age\"   \"Height (in)\"   \"Weight (lbs)\"\n",
      "0  Alex         \"M\"      41              74              170\n",
      "1  Bert         \"M\"      42              68              166\n",
      "2  Carl         \"M\"      32              70              155\n",
      "3  Dave         \"M\"      39              72              167\n",
      "4  Elly         \"F\"      30              66              124\n"
     ]
    }
   ],
   "source": [
    "df = pd.read_csv('biostats.csv')  # Local file path\n",
    "print(df.head())"
   ]
  },
  {
   "cell_type": "code",
   "execution_count": 74,
   "metadata": {
    "colab": {
     "base_uri": "https://localhost:8080/"
    },
    "id": "CiJNqu-kG8nP",
    "outputId": "aaf65c69-132b-4b58-b2fc-4fcd44fb59b0"
   },
   "outputs": [
    {
     "name": "stdout",
     "output_type": "stream",
     "text": [
      "  Name,     \"Sex\", \"Age\", \"Height (in)\", \"Weight (lbs)\"\n",
      "0          Alex,       \"M\",   41,       74,      170   \n",
      "1          Bert,       \"M\",   42,       68,      166   \n",
      "2          Carl,       \"M\",   32,       70,      155   \n",
      "3          Dave,       \"M\",   39,       72,      167   \n",
      "4          Elly,       \"F\",   30,       66,      124   \n",
      "  Name,     \"Sex\", \"Age\", \"Height (in)\", \"Weight (lbs)\"\n",
      "0          Alex,       \"M\",   41,       74,      170   \n",
      "1          Bert,       \"M\",   42,       68,      166   \n",
      "2          Carl,       \"M\",   32,       70,      155   \n",
      "3          Dave,       \"M\",   39,       72,      167   \n",
      "4          Elly,       \"F\",   30,       66,      124   \n",
      "      0           1       2               3                4\n",
      "0  Name       \"Sex\"   \"Age\"   \"Height (in)\"   \"Weight (lbs)\"\n",
      "1  Alex         \"M\"      41              74              170\n",
      "2  Bert         \"M\"      42              68              166\n",
      "3  Carl         \"M\"      32              70              155\n",
      "4  Dave         \"M\"      39              72              167\n",
      "   Alex         \"M\"     41         74        170\n",
      "0  Bert         \"M\"     42         68        166\n",
      "1  Carl         \"M\"     32         70        155\n",
      "2  Dave         \"M\"     39         72        167\n",
      "3  Elly         \"F\"     30         66        124\n",
      "4  Fran         \"F\"     33         66        115\n",
      "   Name       \"Sex\"   \"Age\"   \"Height (in)\"   \"Weight (lbs)\"\n",
      "0  Alex         \"M\"      41              74              170\n",
      "1  Bert         \"M\"      42              68              166\n",
      "2  Carl         \"M\"      32              70              155\n",
      "3  Dave         \"M\"      39              72              167\n",
      "4  Elly         \"F\"      30              66              124\n"
     ]
    }
   ],
   "source": [
    "df = pd.read_csv('biostats.csv', sep='\\t')  # For tab-separated files\n",
    "print(df.head())\n",
    "\n",
    "df = pd.read_csv('biostats.csv', sep='|')  # For pipe-separated files\n",
    "print(df.head())\n",
    "\n",
    "df = pd.read_csv('biostats.csv', header=None)\n",
    "print(df.head())\n",
    "\n",
    "df = pd.read_csv('biostats.csv', header=1)  # Use the second row (index 1) as header\n",
    "print(df.head())\n",
    "\n",
    "df = pd.read_csv('biostats.csv', nrows=5)\n",
    "print(df.head())\n"
   ]
  },
  {
   "cell_type": "markdown",
   "metadata": {
    "id": "l1DmkTXeF5Ob"
   },
   "source": [
    "c)Handle missing values and data cleaning.\n",
    "\n",
    "Handling missing values and performing data cleaning is a crucial part of the data preprocessing process. Pandas provides several methods and techniques to clean and handle missing data effectively.\n"
   ]
  },
  {
   "cell_type": "code",
   "execution_count": 75,
   "metadata": {
    "colab": {
     "base_uri": "https://localhost:8080/"
    },
    "id": "AOIyPsUmIFFp",
    "outputId": "d8633339-6993-4e8c-8b8f-82da3d4c0357"
   },
   "outputs": [
    {
     "name": "stdout",
     "output_type": "stream",
     "text": [
      "    Name    Age  Salary\n",
      "0  False  False   False\n",
      "1  False  False    True\n",
      "2  False   True   False\n",
      "3   True  False   False\n",
      "4  False  False   False\n",
      "0    False\n",
      "1    False\n",
      "2     True\n",
      "3    False\n",
      "4    False\n",
      "Name: Age, dtype: bool\n",
      "Name      1\n",
      "Age       1\n",
      "Salary    1\n",
      "dtype: int64\n",
      "    Name   Age   Salary\n",
      "0   John  25.0  50000.0\n",
      "4  Alice  28.0  55000.0\n",
      "Empty DataFrame\n",
      "Columns: []\n",
      "Index: [0, 1, 2, 3, 4]\n",
      "    Name   Age   Salary\n",
      "0   John  25.0  50000.0\n",
      "1   Jane  30.0      0.0\n",
      "2    Jim   0.0  45000.0\n",
      "3      0  35.0  60000.0\n",
      "4  Alice  28.0  55000.0\n",
      "    Name   Age   Salary\n",
      "0   John  25.0  50000.0\n",
      "1   Jane  30.0  52500.0\n",
      "2    Jim  29.5  45000.0\n",
      "3   None  35.0  60000.0\n",
      "4  Alice  28.0  55000.0\n"
     ]
    }
   ],
   "source": [
    "#Checking for missing values\n",
    "import pandas as pd\n",
    "\n",
    "# Sample data with missing values\n",
    "data = {\n",
    "    'Name': ['John', 'Jane', 'Jim', None, 'Alice'],\n",
    "    'Age': [25, 30, None, 35, 28],\n",
    "    'Salary': [50000, None, 45000, 60000, 55000]\n",
    "}\n",
    "\n",
    "df = pd.DataFrame(data)\n",
    "\n",
    "# Checking for missing values in the entire DataFrame\n",
    "print(df.isna())\n",
    "\n",
    "# Check for missing values in a specific column\n",
    "print(df['Age'].isna())\n",
    "\n",
    "# Check for missing values in the whole DataFrame (summarized by column)\n",
    "print(df.isna().sum())\n",
    "\n",
    "\n",
    "# Remove rows that contain any missing value\n",
    "df_cleaned = df.dropna()\n",
    "print(df_cleaned)\n",
    "\n",
    "\n",
    "# Remove columns with any missing value\n",
    "df_cleaned = df.dropna(axis=1)\n",
    "print(df_cleaned)\n",
    "\n",
    "# Fill missing values with a constant value\n",
    "df_filled = df.fillna(0)\n",
    "print(df_filled)\n",
    "\n",
    "\n",
    "# Fill missing values with the mean of the column (numeric columns only)\n",
    "numeric_cols = df.select_dtypes(include=['number']).columns\n",
    "df_filled = df.fillna(df[numeric_cols].mean())\n",
    "print(df_filled)\n",
    "\n"
   ]
  },
  {
   "cell_type": "markdown",
   "metadata": {
    "id": "LJjLCcjIKMCs"
   },
   "source": [
    "#10)Python String Methods\n",
    "\n",
    "\n",
    "Python provides a rich set of string methods that allow you to manipulate and operate on strings efficiently. Below is a detailed overview of some commonly used string methods in Python, with examples for each.\n",
    "\n",
    "a)Manipulate strings using various built-in methods.\n",
    "\n",
    "b)Perform operations like concatenation, slicing, finding substrings.\n",
    "\n",
    "c)Convert strings to uppercase, lowercase, and title case.\n",
    "\n",
    "d)Remove whitespace and split strings."
   ]
  },
  {
   "cell_type": "code",
   "execution_count": 76,
   "metadata": {
    "colab": {
     "base_uri": "https://localhost:8080/"
    },
    "id": "oE7muKz6Ko7P",
    "outputId": "73c8ee64-49ed-4298-e899-ceeec7091af9"
   },
   "outputs": [
    {
     "name": "stdout",
     "output_type": "stream",
     "text": [
      "HELLO WORLD\n",
      "hello world\n",
      "Hello world\n",
      "hELLO wORLD\n",
      "'hello world'\n",
      "'hello world'\n",
      "'hello world'\n",
      "6\n",
      "True\n",
      "True\n",
      "hello Python\n",
      "2\n",
      "['apple', 'banana', 'cherry']\n",
      "apple, banana, cherry\n",
      "hello*****\n",
      "*****hello\n",
      "**hello***\n",
      "00042\n",
      "The quick brown fox jumps over the lazy dog\n",
      "The quick brown fox jumps over the lazy dog\n",
      "Python\n",
      "World!\n",
      "0\n",
      "17\n"
     ]
    }
   ],
   "source": [
    "#convert the text to uppercase\n",
    "text = \"hello world\"\n",
    "upper_text = text.upper()\n",
    "print(upper_text)\n",
    "\n",
    "#convert the text to lowercase\n",
    "text = \"HELLO WORLD\"\n",
    "lower_text = text.lower()\n",
    "print(lower_text)\n",
    "\n",
    "#Capitilize the below text\n",
    "text = \"hello world\"\n",
    "capitalized_text = text.capitalize()\n",
    "print(capitalized_text)\n",
    "\n",
    "#Swap the case letters\n",
    "text = \"Hello World\"\n",
    "swapped_case_text = text.swapcase()\n",
    "print(swapped_case_text)\n",
    "\n",
    "#White space handling\n",
    "text = \"   hello world   \"\n",
    "stripped_text = text.strip()\n",
    "print(f\"'{stripped_text}'\")\n",
    "\n",
    "\n",
    "#Remove leading white space\n",
    "text = \"   hello world\"\n",
    "lstripped_text = text.lstrip()\n",
    "print(f\"'{lstripped_text}'\")\n",
    "\n",
    "\n",
    "#Remove trailing white space\n",
    "text = \"hello world   \"\n",
    "rstripped_text = text.rstrip()\n",
    "print(f\"'{rstripped_text}'\")\n",
    "\n",
    "#Find the position of substring\n",
    "text = \"hello world\"\n",
    "position = text.find(\"world\")\n",
    "print(position)\n",
    "\n",
    "\n",
    "#Check if a String Starts with a Substring\n",
    "text = \"hello world\"\n",
    "starts_with_hello = text.startswith(\"hello\")\n",
    "print(starts_with_hello)\n",
    "\n",
    "\n",
    "#Check if a string ends with a substring\n",
    "text = \"hello world\"\n",
    "ends_with_world = text.endswith(\"world\")\n",
    "print(ends_with_world)\n",
    "\n",
    "\n",
    "#Replace Substring with Another (replace())\n",
    "text = \"hello world\"\n",
    "replaced_text = text.replace(\"world\", \"Python\")\n",
    "print(replaced_text)\n",
    "\n",
    "#Count Occurrences of Substring (count())\n",
    "text = \"hello world world\"\n",
    "count_world = text.count(\"world\")\n",
    "print(count_world)\n",
    "\n",
    "\n",
    "#Split a String into a List (split())\n",
    "text = \"apple,banana,cherry\"\n",
    "split_text = text.split(\",\")\n",
    "print(split_text)\n",
    "\n",
    "\n",
    "#Join a List of Strings into a Single String (join())\n",
    "words = ['apple', 'banana', 'cherry']\n",
    "joined_text = \", \".join(words)\n",
    "print(joined_text)\n",
    "\n",
    "\n",
    "#Left Justify a String (ljust())\n",
    "text = \"hello\"\n",
    "left_justified = text.ljust(10, '*')\n",
    "print(left_justified)\n",
    "\n",
    "\n",
    "#Right Justify a String (rjust())\n",
    "text = \"hello\"\n",
    "right_justified = text.rjust(10, '*')\n",
    "print(right_justified)\n",
    "\n",
    "\n",
    "#Center a String (center())\n",
    "text = \"hello\"\n",
    "centered_text = text.center(10, '*')\n",
    "print(centered_text)\n",
    "\n",
    "\n",
    "#Zero Padding (zfill())\n",
    "text = \"42\"\n",
    "padded_text = text.zfill(5)\n",
    "print(padded_text)\n",
    "\n",
    "\n",
    "\n",
    "\n",
    "#Concatenating strings\n",
    "# List of words\n",
    "words = [\"The\", \"quick\", \"brown\", \"fox\", \"jumps\", \"over\", \"the\", \"lazy\", \"dog\"]\n",
    "\n",
    "# Using join to concatenate\n",
    "sentence = \" \".join(words)  # Joining with spaces\n",
    "print(sentence)\n",
    "\n",
    "# Another approach using concatenation (slower for large lists)\n",
    "concatenated_sentence = \"\"\n",
    "for word in words:\n",
    "    concatenated_sentence += word + \" \"\n",
    "print(concatenated_sentence.strip())\n",
    "\n",
    "\n",
    "\n",
    "\n",
    "#Slicing\n",
    "text = \"Hello, Python World!\"\n",
    "\n",
    "# Slicing to extract \"Python\"\n",
    "substring = text[7:13]  # From index 7 to index 13 (not including 13)\n",
    "print(substring)\n",
    "\n",
    "# Reverse slicing (extract last 6 characters)\n",
    "last_chars = text[-6:]\n",
    "print(last_chars)\n",
    "\n",
    "\n",
    "#Finding substrings\n",
    "text = \"Python is great. Python is fun.\"\n",
    "\n",
    "# Find the first occurrence of \"Python\"\n",
    "first_pos = text.find(\"Python\")\n",
    "print(first_pos)\n",
    "\n",
    "# Find the second occurrence of \"Python\" (by starting the search after the first occurrence)\n",
    "second_pos = text.find(\"Python\", first_pos + 1)\n",
    "print(second_pos)\n"
   ]
  },
  {
   "cell_type": "code",
   "execution_count": null,
   "metadata": {},
   "outputs": [],
   "source": []
  }
 ],
 "metadata": {
  "colab": {
   "provenance": []
  },
  "kernelspec": {
   "display_name": "Python 3 (ipykernel)",
   "language": "python",
   "name": "python3"
  },
  "language_info": {
   "codemirror_mode": {
    "name": "ipython",
    "version": 3
   },
   "file_extension": ".py",
   "mimetype": "text/x-python",
   "name": "python",
   "nbconvert_exporter": "python",
   "pygments_lexer": "ipython3",
   "version": "3.12.7"
  }
 },
 "nbformat": 4,
 "nbformat_minor": 4
}
